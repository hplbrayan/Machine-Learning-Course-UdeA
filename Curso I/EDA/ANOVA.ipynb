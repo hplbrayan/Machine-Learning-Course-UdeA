{
 "cells": [
  {
   "cell_type": "code",
   "execution_count": 45,
   "metadata": {},
   "outputs": [],
   "source": [
    "import pandas as pd\n",
    "import numpy as np\n",
    "import scipy as sp\n",
    "\n",
    "from scipy.stats import skewtest, levene\n",
    "import statsmodels.api as sm\n",
    "from statsmodels.formula.api import ols\n",
    "from statsmodels.sandbox.regression.predstd import wls_prediction_std\n",
    "from statsmodels.stats.multicomp import MultiComparison\n",
    "\n",
    "from sklearn.feature_selection import f_regression\n",
    "from sklearn.feature_selection import SelectPercentile\n",
    "from sklearn.linear_model import LinearRegression\n",
    "from sklearn.model_selection import train_test_split\n",
    "\n",
    "\n",
    "import seaborn as sbn\n",
    "import matplotlib.pyplot as plt"
   ]
  },
  {
   "cell_type": "code",
   "execution_count": 2,
   "metadata": {},
   "outputs": [],
   "source": [
    "#https://statistics.laerd.com/statistical-guides/one-way-anova-statistical-guide.php"
   ]
  },
  {
   "cell_type": "markdown",
   "metadata": {},
   "source": [
    "The ANOVA test help us to stablish wheter there is a difference among the mean values of several groups. So it tests the null hypothesis that all the mean values are equal. If there are at least two groups with different mean values the test cannot tell us which groups have the different values.\n",
    "\n",
    "ANOVA return two values: the f-score and the p-value. A big f-score and a low p-value tell us that we should accept the alternative hypothesis against the null hypothesis.\n",
    "\n",
    "There are three assupmtions when using ANOVA:\n",
    "\n",
    "\n",
    "    -The dependent variable (y) is normally distributed (skew/skewtest).\n",
    "    \n",
    "    -The variances are homogeneus (Levene's test).\n",
    "    \n",
    "    - Independence of the observations.\n",
    "   \n",
    "ANOVA may work if the normallity of the data is not fullfilled, but it has serius problems when there is not independence in the observations.\n",
    "\n",
    "ANOVA can only be used for numerical dependent data (y) and numerical or categorical independent data (X).\n",
    "\n",
    "We can perform an ANOVA test in two ways: with ols or with sp.stats.f_oneway method. Lets see each of them. They give us similarly results but not exactly the same ones."
   ]
  },
  {
   "cell_type": "markdown",
   "metadata": {},
   "source": [
    "# ANOVA for dimensionality reduction"
   ]
  },
  {
   "cell_type": "markdown",
   "metadata": {},
   "source": [
    "We can use the ANOVA test to reduce the number of indpendent variables for our model by reducing the noise in the data"
   ]
  },
  {
   "cell_type": "code",
   "execution_count": 3,
   "metadata": {},
   "outputs": [
    {
     "data": {
      "text/html": [
       "<div>\n",
       "<style scoped>\n",
       "    .dataframe tbody tr th:only-of-type {\n",
       "        vertical-align: middle;\n",
       "    }\n",
       "\n",
       "    .dataframe tbody tr th {\n",
       "        vertical-align: top;\n",
       "    }\n",
       "\n",
       "    .dataframe thead th {\n",
       "        text-align: right;\n",
       "    }\n",
       "</style>\n",
       "<table border=\"1\" class=\"dataframe\">\n",
       "  <thead>\n",
       "    <tr style=\"text-align: right;\">\n",
       "      <th></th>\n",
       "      <th>symboling</th>\n",
       "      <th>normalized-losses</th>\n",
       "      <th>make</th>\n",
       "      <th>aspiration</th>\n",
       "      <th>num-of-doors</th>\n",
       "      <th>body-style</th>\n",
       "      <th>drive-wheels</th>\n",
       "      <th>engine-location</th>\n",
       "      <th>wheel-base</th>\n",
       "      <th>length</th>\n",
       "      <th>...</th>\n",
       "      <th>compression-ratio</th>\n",
       "      <th>horsepower</th>\n",
       "      <th>peak-rpm</th>\n",
       "      <th>city-mpg</th>\n",
       "      <th>highway-mpg</th>\n",
       "      <th>price</th>\n",
       "      <th>city-L/100km</th>\n",
       "      <th>horsepower-binned</th>\n",
       "      <th>diesel</th>\n",
       "      <th>gas</th>\n",
       "    </tr>\n",
       "  </thead>\n",
       "  <tbody>\n",
       "    <tr>\n",
       "      <th>0</th>\n",
       "      <td>3</td>\n",
       "      <td>122</td>\n",
       "      <td>alfa-romero</td>\n",
       "      <td>std</td>\n",
       "      <td>two</td>\n",
       "      <td>convertible</td>\n",
       "      <td>rwd</td>\n",
       "      <td>front</td>\n",
       "      <td>88.6</td>\n",
       "      <td>0.811148</td>\n",
       "      <td>...</td>\n",
       "      <td>9.0</td>\n",
       "      <td>111.0</td>\n",
       "      <td>5000.0</td>\n",
       "      <td>21</td>\n",
       "      <td>27</td>\n",
       "      <td>13495.0</td>\n",
       "      <td>11.190476</td>\n",
       "      <td>Medium</td>\n",
       "      <td>0</td>\n",
       "      <td>1</td>\n",
       "    </tr>\n",
       "    <tr>\n",
       "      <th>1</th>\n",
       "      <td>3</td>\n",
       "      <td>122</td>\n",
       "      <td>alfa-romero</td>\n",
       "      <td>std</td>\n",
       "      <td>two</td>\n",
       "      <td>convertible</td>\n",
       "      <td>rwd</td>\n",
       "      <td>front</td>\n",
       "      <td>88.6</td>\n",
       "      <td>0.811148</td>\n",
       "      <td>...</td>\n",
       "      <td>9.0</td>\n",
       "      <td>111.0</td>\n",
       "      <td>5000.0</td>\n",
       "      <td>21</td>\n",
       "      <td>27</td>\n",
       "      <td>16500.0</td>\n",
       "      <td>11.190476</td>\n",
       "      <td>Medium</td>\n",
       "      <td>0</td>\n",
       "      <td>1</td>\n",
       "    </tr>\n",
       "    <tr>\n",
       "      <th>2</th>\n",
       "      <td>1</td>\n",
       "      <td>122</td>\n",
       "      <td>alfa-romero</td>\n",
       "      <td>std</td>\n",
       "      <td>two</td>\n",
       "      <td>hatchback</td>\n",
       "      <td>rwd</td>\n",
       "      <td>front</td>\n",
       "      <td>94.5</td>\n",
       "      <td>0.822681</td>\n",
       "      <td>...</td>\n",
       "      <td>9.0</td>\n",
       "      <td>154.0</td>\n",
       "      <td>5000.0</td>\n",
       "      <td>19</td>\n",
       "      <td>26</td>\n",
       "      <td>16500.0</td>\n",
       "      <td>12.368421</td>\n",
       "      <td>Medium</td>\n",
       "      <td>0</td>\n",
       "      <td>1</td>\n",
       "    </tr>\n",
       "    <tr>\n",
       "      <th>3</th>\n",
       "      <td>2</td>\n",
       "      <td>164</td>\n",
       "      <td>audi</td>\n",
       "      <td>std</td>\n",
       "      <td>four</td>\n",
       "      <td>sedan</td>\n",
       "      <td>fwd</td>\n",
       "      <td>front</td>\n",
       "      <td>99.8</td>\n",
       "      <td>0.848630</td>\n",
       "      <td>...</td>\n",
       "      <td>10.0</td>\n",
       "      <td>102.0</td>\n",
       "      <td>5500.0</td>\n",
       "      <td>24</td>\n",
       "      <td>30</td>\n",
       "      <td>13950.0</td>\n",
       "      <td>9.791667</td>\n",
       "      <td>Medium</td>\n",
       "      <td>0</td>\n",
       "      <td>1</td>\n",
       "    </tr>\n",
       "    <tr>\n",
       "      <th>4</th>\n",
       "      <td>2</td>\n",
       "      <td>164</td>\n",
       "      <td>audi</td>\n",
       "      <td>std</td>\n",
       "      <td>four</td>\n",
       "      <td>sedan</td>\n",
       "      <td>4wd</td>\n",
       "      <td>front</td>\n",
       "      <td>99.4</td>\n",
       "      <td>0.848630</td>\n",
       "      <td>...</td>\n",
       "      <td>8.0</td>\n",
       "      <td>115.0</td>\n",
       "      <td>5500.0</td>\n",
       "      <td>18</td>\n",
       "      <td>22</td>\n",
       "      <td>17450.0</td>\n",
       "      <td>13.055556</td>\n",
       "      <td>Medium</td>\n",
       "      <td>0</td>\n",
       "      <td>1</td>\n",
       "    </tr>\n",
       "  </tbody>\n",
       "</table>\n",
       "<p>5 rows × 29 columns</p>\n",
       "</div>"
      ],
      "text/plain": [
       "   symboling  normalized-losses         make aspiration num-of-doors  \\\n",
       "0          3                122  alfa-romero        std          two   \n",
       "1          3                122  alfa-romero        std          two   \n",
       "2          1                122  alfa-romero        std          two   \n",
       "3          2                164         audi        std         four   \n",
       "4          2                164         audi        std         four   \n",
       "\n",
       "    body-style drive-wheels engine-location  wheel-base    length  ...  \\\n",
       "0  convertible          rwd           front        88.6  0.811148  ...   \n",
       "1  convertible          rwd           front        88.6  0.811148  ...   \n",
       "2    hatchback          rwd           front        94.5  0.822681  ...   \n",
       "3        sedan          fwd           front        99.8  0.848630  ...   \n",
       "4        sedan          4wd           front        99.4  0.848630  ...   \n",
       "\n",
       "   compression-ratio  horsepower  peak-rpm city-mpg highway-mpg    price  \\\n",
       "0                9.0       111.0    5000.0       21          27  13495.0   \n",
       "1                9.0       111.0    5000.0       21          27  16500.0   \n",
       "2                9.0       154.0    5000.0       19          26  16500.0   \n",
       "3               10.0       102.0    5500.0       24          30  13950.0   \n",
       "4                8.0       115.0    5500.0       18          22  17450.0   \n",
       "\n",
       "  city-L/100km  horsepower-binned  diesel  gas  \n",
       "0    11.190476             Medium       0    1  \n",
       "1    11.190476             Medium       0    1  \n",
       "2    12.368421             Medium       0    1  \n",
       "3     9.791667             Medium       0    1  \n",
       "4    13.055556             Medium       0    1  \n",
       "\n",
       "[5 rows x 29 columns]"
      ]
     },
     "execution_count": 3,
     "metadata": {},
     "output_type": "execute_result"
    }
   ],
   "source": [
    "path = 'https://s3-api.us-geo.objectstorage.softlayer.net/cf-courses-data/CognitiveClass/DA0101EN/automobileEDA.csv'\n",
    "df = pd.read_csv(filepath_or_buffer=path)\n",
    "df.head()"
   ]
  },
  {
   "cell_type": "code",
   "execution_count": 4,
   "metadata": {},
   "outputs": [],
   "source": [
    "df.columns = df.columns.str.replace(\"-\", \"_\")"
   ]
  },
  {
   "cell_type": "code",
   "execution_count": 5,
   "metadata": {},
   "outputs": [
    {
     "data": {
      "text/plain": [
       "wheel_base           float64\n",
       "length               float64\n",
       "width                float64\n",
       "height               float64\n",
       "bore                 float64\n",
       "stroke               float64\n",
       "compression_ratio    float64\n",
       "horsepower           float64\n",
       "peak_rpm             float64\n",
       "price                float64\n",
       "city_L/100km         float64\n",
       "dtype: object"
      ]
     },
     "execution_count": 5,
     "metadata": {},
     "output_type": "execute_result"
    }
   ],
   "source": [
    "#lets make a simple cleaning of the data\n",
    "df.dropna(inplace=True)\n",
    "df.reset_index(drop=True, inplace=True)\n",
    "\n",
    "#we are going to work only with numeric data\n",
    "df2 = df.drop(labels=df.columns[~(df.dtypes==np.float64)], axis=1)\n",
    "df2.dtypes"
   ]
  },
  {
   "cell_type": "code",
   "execution_count": 6,
   "metadata": {},
   "outputs": [],
   "source": [
    "#the dependent variable in this model is the price (y) and the others are the independent (X)\n",
    "y = df2.price\n",
    "X = df2.drop(\"price\", axis=1)"
   ]
  },
  {
   "cell_type": "code",
   "execution_count": 7,
   "metadata": {},
   "outputs": [
    {
     "data": {
      "text/plain": [
       "price                1.000000\n",
       "city_L/100km         0.803669\n",
       "horsepower           0.802040\n",
       "width                0.744176\n",
       "length               0.689466\n",
       "wheel_base           0.591956\n",
       "bore                 0.544375\n",
       "height               0.182407\n",
       "stroke               0.107893\n",
       "compression_ratio    0.067759\n",
       "peak_rpm            -0.103535\n",
       "Name: price, dtype: float64"
      ]
     },
     "execution_count": 7,
     "metadata": {},
     "output_type": "execute_result"
    }
   ],
   "source": [
    "df2.corr().sort_values(by=\"price\", ascending=False).price"
   ]
  },
  {
   "cell_type": "code",
   "execution_count": 8,
   "metadata": {},
   "outputs": [
    {
     "name": "stderr",
     "output_type": "stream",
     "text": [
      "/home/brayan/anaconda3/lib/python3.6/site-packages/scipy/stats/stats.py:1713: FutureWarning: Using a non-tuple sequence for multidimensional indexing is deprecated; use `arr[tuple(seq)]` instead of `arr[seq]`. In the future this will be interpreted as an array index, `arr[np.array(seq)]`, which will result either in an error or a different result.\n",
      "  return np.add.reduce(sorted[indexer] * weights, axis=axis) / sumval\n"
     ]
    },
    {
     "data": {
      "text/plain": [
       "((196, 10), (196, 5))"
      ]
     },
     "execution_count": 8,
     "metadata": {},
     "output_type": "execute_result"
    }
   ],
   "source": [
    "#We can reduce the dimentionality of the model by using sklearn.feature_selection.SelectPercentile\n",
    "sel = SelectPercentile(score_func=f_regression, percentile=50)\n",
    "sel.fit(X, y)\n",
    "X_sel = sel.transform(X)\n",
    "\n",
    "#the change in dimentionaly\n",
    "X.shape, X_sel.shape"
   ]
  },
  {
   "cell_type": "code",
   "execution_count": 9,
   "metadata": {
    "scrolled": false
   },
   "outputs": [
    {
     "name": "stdout",
     "output_type": "stream",
     "text": [
      "(True, 'wheel_base')\n",
      "(True, 'length')\n",
      "(True, 'width')\n",
      "(False, 'height')\n",
      "(False, 'bore')\n",
      "(False, 'stroke')\n",
      "(False, 'compression_ratio')\n",
      "(True, 'horsepower')\n",
      "(False, 'peak_rpm')\n",
      "(True, 'city_L/100km')\n"
     ]
    },
    {
     "name": "stderr",
     "output_type": "stream",
     "text": [
      "/home/brayan/anaconda3/lib/python3.6/site-packages/scipy/stats/stats.py:1713: FutureWarning: Using a non-tuple sequence for multidimensional indexing is deprecated; use `arr[tuple(seq)]` instead of `arr[seq]`. In the future this will be interpreted as an array index, `arr[np.array(seq)]`, which will result either in an error or a different result.\n",
      "  return np.add.reduce(sorted[indexer] * weights, axis=axis) / sumval\n"
     ]
    }
   ],
   "source": [
    "#lets see the chosen columns:\n",
    "#as we can see below, only the columns with the higest correlation with the price were chosen\n",
    "for cols in zip(sel.get_support(), X.columns): print(cols)"
   ]
  },
  {
   "cell_type": "markdown",
   "metadata": {},
   "source": [
    "We use the dimentionaly reduction to obtain a better dataset to improve the performance of the predictions. So, lets test this new results.\n",
    "\n",
    "We start by spliting the data into two sets: test and train. When we have a dataset to build a model we do not use the whole data to build the model, we need to split it into a training set and a testing set. The training set will be used to build the model and the testing set will be used to test that model, to see how good are its predictions. The training set is around a 75% of the data, or more. \n",
    "\n",
    "These are some links to understand better why we split the data into testing and training:\n",
    "\n",
    "        https://www.youtube.com/watch?v=_vdMKioCXqQ\n",
    "        https://docs.microsoft.com/en-us/analysis-services/data-mining/training-and-testing-data-sets?view=asallproducts-allversions\n"
   ]
  },
  {
   "cell_type": "code",
   "execution_count": 10,
   "metadata": {},
   "outputs": [
    {
     "name": "stderr",
     "output_type": "stream",
     "text": [
      "/home/brayan/anaconda3/lib/python3.6/site-packages/scipy/stats/stats.py:1713: FutureWarning: Using a non-tuple sequence for multidimensional indexing is deprecated; use `arr[tuple(seq)]` instead of `arr[seq]`. In the future this will be interpreted as an array index, `arr[np.array(seq)]`, which will result either in an error or a different result.\n",
      "  return np.add.reduce(sorted[indexer] * weights, axis=axis) / sumval\n"
     ]
    }
   ],
   "source": [
    "#1. Spliting the data into training and testing\n",
    "X_train, X_test, y_train, y_test = train_test_split(X, y, random_state=0, test_size=0.25)\n",
    "\n",
    "#2. Selecting the new data\n",
    "#2.a Initializing the selector\n",
    "select = SelectPercentile(score_func=f_regression, percentile=95)\n",
    "\n",
    "#2.b Selecting the data for the training\n",
    "select.fit(X_train, y_train)\n",
    "X_train_sel = select.transform(X_train)\n",
    "\n",
    "#2.c. And the data selected for the test\n",
    "X_test_sel = select.transform(X_test)"
   ]
  },
  {
   "cell_type": "code",
   "execution_count": 11,
   "metadata": {},
   "outputs": [
    {
     "name": "stdout",
     "output_type": "stream",
     "text": [
      "(147, 10) (147, 9) (147,)\n",
      "(49, 10) (49,)\n"
     ]
    }
   ],
   "source": [
    "print(X_train.shape, X_train_sel.shape, y_train.shape)\n",
    "print(X_test.shape, y_test.shape)"
   ]
  },
  {
   "cell_type": "code",
   "execution_count": 12,
   "metadata": {},
   "outputs": [
    {
     "name": "stdout",
     "output_type": "stream",
     "text": [
      "Score all cols:  0.8107193547824856\n",
      "Score sel cols:  0.8259427599472775\n"
     ]
    }
   ],
   "source": [
    "#3. Testing the selection\n",
    "lr     = LinearRegression().fit(X_train, y_train)      #all the columns\n",
    "lr_sel = LinearRegression().fit(X_train_sel, y_train)  #selected colums\n",
    "\n",
    "#3.b. Comparing the results\n",
    "print(\"Score all cols: \", lr.score(X=X_test, y=y_test))\n",
    "print(\"Score sel cols: \", lr_sel.score(X=X_test_sel, y=y_test))"
   ]
  },
  {
   "cell_type": "code",
   "execution_count": 13,
   "metadata": {},
   "outputs": [],
   "source": [
    "#study the dependence of the score with the number/type of columns selected by SelectPercentile"
   ]
  },
  {
   "cell_type": "markdown",
   "metadata": {},
   "source": [
    "# Model testing with ANOVA"
   ]
  },
  {
   "cell_type": "markdown",
   "metadata": {},
   "source": [
    "We can use ANOVA to test how good is a model. We build different models using different variables to fit a target variable (y) and see how these variables affect the statistics of the model.\n",
    "\n",
    "Here we are not doing a ML model since we are not spliting our data to make a training and testing analysis, it is just a descriptive model that give us information about the data."
   ]
  },
  {
   "cell_type": "code",
   "execution_count": 14,
   "metadata": {},
   "outputs": [
    {
     "data": {
      "text/plain": [
       "price                1.000000\n",
       "engine_size          0.889265\n",
       "curb_weight          0.828483\n",
       "city_L/100km         0.803669\n",
       "horsepower           0.802040\n",
       "width                0.744176\n",
       "length               0.689466\n",
       "wheel_base           0.591956\n",
       "bore                 0.544375\n",
       "height               0.182407\n",
       "normalized_losses    0.138183\n",
       "diesel               0.117725\n",
       "stroke               0.107893\n",
       "compression_ratio    0.067759\n",
       "symboling           -0.076420\n",
       "peak_rpm            -0.103535\n",
       "gas                 -0.117725\n",
       "city_mpg            -0.692550\n",
       "highway_mpg         -0.707466\n",
       "Name: price, dtype: float64"
      ]
     },
     "execution_count": 14,
     "metadata": {},
     "output_type": "execute_result"
    }
   ],
   "source": [
    "df.corr().price.sort_values(ascending=False)"
   ]
  },
  {
   "cell_type": "code",
   "execution_count": 15,
   "metadata": {},
   "outputs": [
    {
     "name": "stdout",
     "output_type": "stream",
     "text": [
      "                            OLS Regression Results                            \n",
      "==============================================================================\n",
      "Dep. Variable:                  price   R-squared:                       0.475\n",
      "Model:                            OLS   Adj. R-squared:                  0.473\n",
      "Method:                 Least Squares   F-statistic:                     175.8\n",
      "Date:                Wed, 30 Mar 2022   Prob (F-statistic):           5.53e-29\n",
      "Time:                        10:55:37   Log-Likelihood:                -1972.8\n",
      "No. Observations:                 196   AIC:                             3950.\n",
      "Df Residuals:                     194   BIC:                             3956.\n",
      "Df Model:                           1                                         \n",
      "Covariance Type:            nonrobust                                         \n",
      "==============================================================================\n",
      "                 coef    std err          t      P>|t|      [0.025      0.975]\n",
      "------------------------------------------------------------------------------\n",
      "Intercept  -6.324e+04   5771.860    -10.956      0.000   -7.46e+04   -5.19e+04\n",
      "length      9.118e+04   6877.088     13.258      0.000    7.76e+04    1.05e+05\n",
      "==============================================================================\n",
      "Omnibus:                       95.119   Durbin-Watson:                   0.621\n",
      "Prob(Omnibus):                  0.000   Jarque-Bera (JB):              359.480\n",
      "Skew:                           1.987   Prob(JB):                     8.71e-79\n",
      "Kurtosis:                       8.312   Cond. No.                         28.7\n",
      "==============================================================================\n",
      "\n",
      "Warnings:\n",
      "[1] Standard Errors assume that the covariance matrix of the errors is correctly specified.\n"
     ]
    }
   ],
   "source": [
    "#lets test the price and the length\n",
    "anova_pl = ols(formula=\"price~length\", data=df).fit()\n",
    "print(anova_pl.summary())"
   ]
  },
  {
   "cell_type": "code",
   "execution_count": 16,
   "metadata": {},
   "outputs": [
    {
     "data": {
      "text/html": [
       "<div>\n",
       "<style scoped>\n",
       "    .dataframe tbody tr th:only-of-type {\n",
       "        vertical-align: middle;\n",
       "    }\n",
       "\n",
       "    .dataframe tbody tr th {\n",
       "        vertical-align: top;\n",
       "    }\n",
       "\n",
       "    .dataframe thead th {\n",
       "        text-align: right;\n",
       "    }\n",
       "</style>\n",
       "<table border=\"1\" class=\"dataframe\">\n",
       "  <thead>\n",
       "    <tr style=\"text-align: right;\">\n",
       "      <th></th>\n",
       "      <th>df</th>\n",
       "      <th>sum_sq</th>\n",
       "      <th>mean_sq</th>\n",
       "      <th>F</th>\n",
       "      <th>PR(&gt;F)</th>\n",
       "    </tr>\n",
       "  </thead>\n",
       "  <tbody>\n",
       "    <tr>\n",
       "      <th>length</th>\n",
       "      <td>1.0</td>\n",
       "      <td>5.750026e+09</td>\n",
       "      <td>5.750026e+09</td>\n",
       "      <td>175.779545</td>\n",
       "      <td>5.531750e-29</td>\n",
       "    </tr>\n",
       "    <tr>\n",
       "      <th>Residual</th>\n",
       "      <td>194.0</td>\n",
       "      <td>6.346045e+09</td>\n",
       "      <td>3.271157e+07</td>\n",
       "      <td>NaN</td>\n",
       "      <td>NaN</td>\n",
       "    </tr>\n",
       "  </tbody>\n",
       "</table>\n",
       "</div>"
      ],
      "text/plain": [
       "             df        sum_sq       mean_sq           F        PR(>F)\n",
       "length      1.0  5.750026e+09  5.750026e+09  175.779545  5.531750e-29\n",
       "Residual  194.0  6.346045e+09  3.271157e+07         NaN           NaN"
      ]
     },
     "execution_count": 16,
     "metadata": {},
     "output_type": "execute_result"
    }
   ],
   "source": [
    "#one of the most important values to see in the table above is the R-squared, this one tell us how good is the fit, the closes to 1 it is better.\n",
    "#we can see the same information from above with more clarity\n",
    "sm.stats.anova_lm(anova_pl)"
   ]
  },
  {
   "cell_type": "code",
   "execution_count": 17,
   "metadata": {},
   "outputs": [
    {
     "data": {
      "text/plain": [
       "Intercept    4.700721e-22\n",
       "length       5.531750e-29\n",
       "dtype: float64"
      ]
     },
     "execution_count": 17,
     "metadata": {},
     "output_type": "execute_result"
    }
   ],
   "source": [
    "#we can see the p-values for the parameters (PR(>F) above)\n",
    "anova_pl.pvalues"
   ]
  },
  {
   "cell_type": "code",
   "execution_count": 18,
   "metadata": {},
   "outputs": [],
   "source": [
    "#lets see the confidence intervals, for this we use wls_prediction_std\n",
    "#l-> lower, u->upper\n",
    "_, l, u = wls_prediction_std(anova_pl)"
   ]
  },
  {
   "cell_type": "code",
   "execution_count": 19,
   "metadata": {},
   "outputs": [
    {
     "name": "stderr",
     "output_type": "stream",
     "text": [
      "/home/brayan/anaconda3/lib/python3.6/site-packages/matplotlib/cbook/__init__.py:2062: FutureWarning: Support for multi-dimensional indexing (e.g. `obj[:, None]`) is deprecated and will be removed in a future version.  Convert to a numpy array before indexing instead.\n",
      "  x[:, None]\n",
      "/home/brayan/anaconda3/lib/python3.6/site-packages/matplotlib/axes/_base.py:248: FutureWarning: Support for multi-dimensional indexing (e.g. `obj[:, None]`) is deprecated and will be removed in a future version.  Convert to a numpy array before indexing instead.\n",
      "  x = x[:, np.newaxis]\n",
      "/home/brayan/anaconda3/lib/python3.6/site-packages/matplotlib/axes/_base.py:250: FutureWarning: Support for multi-dimensional indexing (e.g. `obj[:, None]`) is deprecated and will be removed in a future version.  Convert to a numpy array before indexing instead.\n",
      "  y = y[:, np.newaxis]\n"
     ]
    },
    {
     "data": {
      "text/plain": [
       "<matplotlib.legend.Legend at 0x7f809ecaf828>"
      ]
     },
     "execution_count": 19,
     "metadata": {},
     "output_type": "execute_result"
    },
    {
     "data": {
      "image/png": "[encoded data removed]",
      "text/plain": [
       "<Figure size 720x576 with 1 Axes>"
      ]
     },
     "metadata": {
      "needs_background": "light"
     },
     "output_type": "display_data"
    }
   ],
   "source": [
    "fig = plt.figure(figsize=(10, 8))\n",
    "plt.plot(df.length, df.price, \"ro\", label=\"data\")\n",
    "plt.plot(df.length, anova_pl.fittedvalues, label=\"OLS\")\n",
    "plt.plot(df.length, l, label=\"lower confidence interval\")\n",
    "plt.plot(df.length, u, label=\"upper confidence interval\")\n",
    "plt.xlabel(\"length\")\n",
    "plt.ylabel(\"price\")\n",
    "plt.legend()"
   ]
  },
  {
   "cell_type": "code",
   "execution_count": 20,
   "metadata": {},
   "outputs": [
    {
     "name": "stdout",
     "output_type": "stream",
     "text": [
      "                            OLS Regression Results                            \n",
      "==============================================================================\n",
      "Dep. Variable:                  price   R-squared:                       0.643\n",
      "Model:                            OLS   Adj. R-squared:                  0.641\n",
      "Method:                 Least Squares   F-statistic:                     349.8\n",
      "Date:                Wed, 30 Mar 2022   Prob (F-statistic):           2.69e-45\n",
      "Time:                        10:55:38   Log-Likelihood:                -1935.0\n",
      "No. Observations:                 196   AIC:                             3874.\n",
      "Df Residuals:                     194   BIC:                             3881.\n",
      "Df Model:                           1                                         \n",
      "Covariance Type:            nonrobust                                         \n",
      "==============================================================================\n",
      "                 coef    std err          t      P>|t|      [0.025      0.975]\n",
      "------------------------------------------------------------------------------\n",
      "Intercept  -4879.5060   1018.331     -4.792      0.000   -6887.928   -2871.084\n",
      "horsepower   175.4056      9.378     18.704      0.000     156.909     193.902\n",
      "==============================================================================\n",
      "Omnibus:                       33.233   Durbin-Watson:                   0.747\n",
      "Prob(Omnibus):                  0.000   Jarque-Bera (JB):               52.147\n",
      "Skew:                           0.925   Prob(JB):                     4.75e-12\n",
      "Kurtosis:                       4.721   Cond. No.                         328.\n",
      "==============================================================================\n",
      "\n",
      "Warnings:\n",
      "[1] Standard Errors assume that the covariance matrix of the errors is correctly specified.\n"
     ]
    }
   ],
   "source": [
    "#lets try another models\n",
    "#price ~ horsepower\n",
    "anova_ph = ols(data=df, formula=\"price~horsepower\").fit()\n",
    "print(anova_ph.summary())"
   ]
  },
  {
   "cell_type": "code",
   "execution_count": 21,
   "metadata": {},
   "outputs": [
    {
     "data": {
      "text/html": [
       "<div>\n",
       "<style scoped>\n",
       "    .dataframe tbody tr th:only-of-type {\n",
       "        vertical-align: middle;\n",
       "    }\n",
       "\n",
       "    .dataframe tbody tr th {\n",
       "        vertical-align: top;\n",
       "    }\n",
       "\n",
       "    .dataframe thead th {\n",
       "        text-align: right;\n",
       "    }\n",
       "</style>\n",
       "<table border=\"1\" class=\"dataframe\">\n",
       "  <thead>\n",
       "    <tr style=\"text-align: right;\">\n",
       "      <th></th>\n",
       "      <th>df</th>\n",
       "      <th>sum_sq</th>\n",
       "      <th>mean_sq</th>\n",
       "      <th>F</th>\n",
       "      <th>PR(&gt;F)</th>\n",
       "    </tr>\n",
       "  </thead>\n",
       "  <tbody>\n",
       "    <tr>\n",
       "      <th>horsepower</th>\n",
       "      <td>1.0</td>\n",
       "      <td>7.781023e+09</td>\n",
       "      <td>7.781023e+09</td>\n",
       "      <td>349.82655</td>\n",
       "      <td>2.686405e-45</td>\n",
       "    </tr>\n",
       "    <tr>\n",
       "      <th>Residual</th>\n",
       "      <td>194.0</td>\n",
       "      <td>4.315048e+09</td>\n",
       "      <td>2.224252e+07</td>\n",
       "      <td>NaN</td>\n",
       "      <td>NaN</td>\n",
       "    </tr>\n",
       "  </tbody>\n",
       "</table>\n",
       "</div>"
      ],
      "text/plain": [
       "               df        sum_sq       mean_sq          F        PR(>F)\n",
       "horsepower    1.0  7.781023e+09  7.781023e+09  349.82655  2.686405e-45\n",
       "Residual    194.0  4.315048e+09  2.224252e+07        NaN           NaN"
      ]
     },
     "execution_count": 21,
     "metadata": {},
     "output_type": "execute_result"
    }
   ],
   "source": [
    "sm.stats.anova_lm(anova_ph)"
   ]
  },
  {
   "cell_type": "code",
   "execution_count": 22,
   "metadata": {},
   "outputs": [
    {
     "data": {
      "text/plain": [
       "Index(['symboling', 'normalized_losses', 'make', 'aspiration', 'num_of_doors',\n",
       "       'body_style', 'drive_wheels', 'engine_location', 'wheel_base', 'length',\n",
       "       'width', 'height', 'curb_weight', 'engine_type', 'num_of_cylinders',\n",
       "       'engine_size', 'fuel_system', 'bore', 'stroke', 'compression_ratio',\n",
       "       'horsepower', 'peak_rpm', 'city_mpg', 'highway_mpg', 'price',\n",
       "       'city_L/100km', 'horsepower_binned', 'diesel', 'gas'],\n",
       "      dtype='object')"
      ]
     },
     "execution_count": 22,
     "metadata": {},
     "output_type": "execute_result"
    }
   ],
   "source": [
    "df.columns"
   ]
  },
  {
   "cell_type": "code",
   "execution_count": 23,
   "metadata": {},
   "outputs": [
    {
     "name": "stdout",
     "output_type": "stream",
     "text": [
      "                            OLS Regression Results                            \n",
      "==============================================================================\n",
      "Dep. Variable:                  price   R-squared:                       0.807\n",
      "Model:                            OLS   Adj. R-squared:                  0.805\n",
      "Method:                 Least Squares   F-statistic:                     402.8\n",
      "Date:                Wed, 30 Mar 2022   Prob (F-statistic):           1.31e-69\n",
      "Time:                        10:55:38   Log-Likelihood:                -1875.0\n",
      "No. Observations:                 196   AIC:                             3756.\n",
      "Df Residuals:                     193   BIC:                             3766.\n",
      "Df Model:                           2                                         \n",
      "Covariance Type:            nonrobust                                         \n",
      "===============================================================================\n",
      "                  coef    std err          t      P>|t|      [0.025      0.975]\n",
      "-------------------------------------------------------------------------------\n",
      "Intercept   -1.401e+04   1351.937    -10.360      0.000   -1.67e+04   -1.13e+04\n",
      "engine_size   137.5001     12.543     10.962      0.000     112.761     162.239\n",
      "curb_weight     3.7790      0.947      3.989      0.000       1.910       5.648\n",
      "==============================================================================\n",
      "Omnibus:                       29.616   Durbin-Watson:                   0.770\n",
      "Prob(Omnibus):                  0.000   Jarque-Bera (JB):               69.255\n",
      "Skew:                           0.668   Prob(JB):                     9.15e-16\n",
      "Kurtosis:                       5.588   Cond. No.                     1.42e+04\n",
      "==============================================================================\n",
      "\n",
      "Warnings:\n",
      "[1] Standard Errors assume that the covariance matrix of the errors is correctly specified.\n",
      "[2] The condition number is large, 1.42e+04. This might indicate that there are\n",
      "strong multicollinearity or other numerical problems.\n"
     ]
    }
   ],
   "source": [
    "#price~enginezise+curbweight\n",
    "anova_pec = ols(data=df, formula=\"price~engine_size+curb_weight\").fit()\n",
    "print(anova_pec.summary())"
   ]
  },
  {
   "cell_type": "code",
   "execution_count": 24,
   "metadata": {},
   "outputs": [
    {
     "name": "stdout",
     "output_type": "stream",
     "text": [
      "                            OLS Regression Results                            \n",
      "==============================================================================\n",
      "Dep. Variable:                  price   R-squared:                       0.932\n",
      "Model:                            OLS   Adj. R-squared:                  0.923\n",
      "Method:                 Least Squares   F-statistic:                     103.1\n",
      "Date:                Wed, 30 Mar 2022   Prob (F-statistic):           4.09e-88\n",
      "Time:                        10:55:39   Log-Likelihood:                -1772.1\n",
      "No. Observations:                 196   AIC:                             3592.\n",
      "Df Residuals:                     172   BIC:                             3671.\n",
      "Df Model:                          23                                         \n",
      "Covariance Type:            nonrobust                                         \n",
      "============================================================================================\n",
      "                               coef    std err          t      P>|t|      [0.025      0.975]\n",
      "--------------------------------------------------------------------------------------------\n",
      "Intercept                -6321.8210   1932.180     -3.272      0.001   -1.01e+04   -2507.983\n",
      "C(make)[T.audi]           2420.8877   1551.929      1.560      0.121    -642.391    5484.167\n",
      "C(make)[T.bmw]            7051.0840   1489.291      4.735      0.000    4111.443    9990.725\n",
      "C(make)[T.chevrolet]     -1295.7521   1842.207     -0.703      0.483   -4931.996    2340.492\n",
      "C(make)[T.dodge]         -2834.4983   1477.533     -1.918      0.057   -5750.930      81.933\n",
      "C(make)[T.honda]         -2031.9840   1427.023     -1.424      0.156   -4848.717     784.749\n",
      "C(make)[T.isuzu]         -4347.7780   1999.251     -2.175      0.031   -8294.004    -401.552\n",
      "C(make)[T.jaguar]         2839.9034   2153.127      1.319      0.189   -1410.051    7089.858\n",
      "C(make)[T.mazda]         -2025.4147   1411.406     -1.435      0.153   -4811.322     760.492\n",
      "C(make)[T.mercedes-benz]  6638.8102   1596.195      4.159      0.000    3488.156    9789.464\n",
      "C(make)[T.mercury]        -304.7503   2528.154     -0.121      0.904   -5294.952    4685.451\n",
      "C(make)[T.mitsubishi]    -3672.1043   1403.948     -2.616      0.010   -6443.289    -900.919\n",
      "C(make)[T.nissan]        -3348.6190   1367.880     -2.448      0.015   -6048.612    -648.626\n",
      "C(make)[T.peugot]        -2236.5634   1519.728     -1.472      0.143   -5236.282     763.155\n",
      "C(make)[T.plymouth]      -3321.3738   1522.118     -2.182      0.030   -6325.809    -316.938\n",
      "C(make)[T.porsche]        1.164e+04   1718.042      6.774      0.000    8246.671     1.5e+04\n",
      "C(make)[T.renault]       -4984.5687   1992.239     -2.502      0.013   -8916.954   -1052.184\n",
      "C(make)[T.saab]            622.9803   1564.888      0.398      0.691   -2465.878    3711.839\n",
      "C(make)[T.subaru]        -3193.9698   1421.982     -2.246      0.026   -6000.752    -387.188\n",
      "C(make)[T.toyota]        -3306.2642   1322.608     -2.500      0.013   -5916.897    -695.632\n",
      "C(make)[T.volkswagen]    -1780.0723   1421.680     -1.252      0.212   -4586.258    1026.114\n",
      "C(make)[T.volvo]           553.8098   1455.685      0.380      0.704   -2319.498    3427.117\n",
      "engine_size                 81.1752     11.140      7.287      0.000      59.187     103.164\n",
      "curb_weight                  4.0430      0.905      4.467      0.000       2.256       5.830\n",
      "==============================================================================\n",
      "Omnibus:                       26.681   Durbin-Watson:                   1.320\n",
      "Prob(Omnibus):                  0.000   Jarque-Bera (JB):               81.332\n",
      "Skew:                           0.495   Prob(JB):                     2.18e-18\n",
      "Kurtosis:                       5.996   Cond. No.                     1.00e+05\n",
      "==============================================================================\n",
      "\n",
      "Warnings:\n",
      "[1] Standard Errors assume that the covariance matrix of the errors is correctly specified.\n",
      "[2] The condition number is large,  1e+05. This might indicate that there are\n",
      "strong multicollinearity or other numerical problems.\n"
     ]
    }
   ],
   "source": [
    "#as we can see this last model give us a better prediction of the price since it has a bigger R2\n",
    "#ols allow us to include categorical variables in our model, to do so in the formula parameter we\n",
    "#just need to add a C before the name of the categorical variable\n",
    "#we know that the mark is an important variable to predict the price:\n",
    "anova_pecm = ols(data=df, formula=\"price~engine_size+curb_weight+C(make)\").fit()\n",
    "print(anova_pecm.summary())"
   ]
  },
  {
   "cell_type": "code",
   "execution_count": 25,
   "metadata": {},
   "outputs": [
    {
     "data": {
      "text/plain": [
       "Intercept                   1.291145e-03\n",
       "C(make)[T.bmw]              4.568483e-06\n",
       "C(make)[T.isuzu]            3.101789e-02\n",
       "C(make)[T.mercedes-benz]    5.033619e-05\n",
       "C(make)[T.mitsubishi]       9.699988e-03\n",
       "C(make)[T.nissan]           1.536793e-02\n",
       "C(make)[T.plymouth]         3.046017e-02\n",
       "C(make)[T.porsche]          1.908563e-10\n",
       "C(make)[T.renault]          1.328354e-02\n",
       "C(make)[T.subaru]           2.596772e-02\n",
       "C(make)[T.toyota]           1.336285e-02\n",
       "engine_size                 1.098555e-11\n",
       "curb_weight                 1.434608e-05\n",
       "dtype: float64"
      ]
     },
     "execution_count": 25,
     "metadata": {},
     "output_type": "execute_result"
    }
   ],
   "source": [
    "#the variables with pvalues<0.05\n",
    "anova_pecm.pvalues[anova_pecm.pvalues<0.05]"
   ]
  },
  {
   "cell_type": "code",
   "execution_count": 26,
   "metadata": {},
   "outputs": [],
   "source": [
    "#now, our R2 is around 0.93, much better than the previuos models\n",
    "#for each unique value in \"make\" ols will produce a new variable. \n",
    "#Although, we do not only look for a good R2, we also want a low \"Omnibus\" and a low \"Cond. No\" since those\n",
    "#represent how are distributed the residuals of the model; a low \"Omnibus\" represents a more gaussian distribution for those"
   ]
  },
  {
   "cell_type": "markdown",
   "metadata": {},
   "source": [
    "# ANOVA for testing differences between groups"
   ]
  },
  {
   "cell_type": "code",
   "execution_count": 27,
   "metadata": {},
   "outputs": [],
   "source": [
    "#We usually use ANOVA when we already have a model to test, when we have already decided which one is our model \n",
    "#and we want to test how good the independent variables predic de value of the depend variable. With ANOVA we can see\n",
    "#which of those variables is actually a good predictor for our model or if this variable keeps any relationship (equal means) with\n",
    "#another one and so we can elimite it from our model."
   ]
  },
  {
   "cell_type": "code",
   "execution_count": 28,
   "metadata": {},
   "outputs": [
    {
     "data": {
      "text/html": [
       "<div>\n",
       "<style scoped>\n",
       "    .dataframe tbody tr th:only-of-type {\n",
       "        vertical-align: middle;\n",
       "    }\n",
       "\n",
       "    .dataframe tbody tr th {\n",
       "        vertical-align: top;\n",
       "    }\n",
       "\n",
       "    .dataframe thead th {\n",
       "        text-align: right;\n",
       "    }\n",
       "</style>\n",
       "<table border=\"1\" class=\"dataframe\">\n",
       "  <thead>\n",
       "    <tr style=\"text-align: right;\">\n",
       "      <th></th>\n",
       "      <th>price</th>\n",
       "      <th>make</th>\n",
       "    </tr>\n",
       "  </thead>\n",
       "  <tbody>\n",
       "    <tr>\n",
       "      <th>29</th>\n",
       "      <td>6479.0</td>\n",
       "      <td>honda</td>\n",
       "    </tr>\n",
       "    <tr>\n",
       "      <th>30</th>\n",
       "      <td>6855.0</td>\n",
       "      <td>honda</td>\n",
       "    </tr>\n",
       "    <tr>\n",
       "      <th>31</th>\n",
       "      <td>5399.0</td>\n",
       "      <td>honda</td>\n",
       "    </tr>\n",
       "    <tr>\n",
       "      <th>32</th>\n",
       "      <td>6529.0</td>\n",
       "      <td>honda</td>\n",
       "    </tr>\n",
       "    <tr>\n",
       "      <th>33</th>\n",
       "      <td>7129.0</td>\n",
       "      <td>honda</td>\n",
       "    </tr>\n",
       "    <tr>\n",
       "      <th>34</th>\n",
       "      <td>7295.0</td>\n",
       "      <td>honda</td>\n",
       "    </tr>\n",
       "    <tr>\n",
       "      <th>35</th>\n",
       "      <td>7295.0</td>\n",
       "      <td>honda</td>\n",
       "    </tr>\n",
       "    <tr>\n",
       "      <th>36</th>\n",
       "      <td>7895.0</td>\n",
       "      <td>honda</td>\n",
       "    </tr>\n",
       "    <tr>\n",
       "      <th>37</th>\n",
       "      <td>9095.0</td>\n",
       "      <td>honda</td>\n",
       "    </tr>\n",
       "    <tr>\n",
       "      <th>38</th>\n",
       "      <td>8845.0</td>\n",
       "      <td>honda</td>\n",
       "    </tr>\n",
       "    <tr>\n",
       "      <th>39</th>\n",
       "      <td>10295.0</td>\n",
       "      <td>honda</td>\n",
       "    </tr>\n",
       "    <tr>\n",
       "      <th>40</th>\n",
       "      <td>12945.0</td>\n",
       "      <td>honda</td>\n",
       "    </tr>\n",
       "    <tr>\n",
       "      <th>41</th>\n",
       "      <td>10345.0</td>\n",
       "      <td>honda</td>\n",
       "    </tr>\n",
       "    <tr>\n",
       "      <th>185</th>\n",
       "      <td>12940.0</td>\n",
       "      <td>volvo</td>\n",
       "    </tr>\n",
       "    <tr>\n",
       "      <th>186</th>\n",
       "      <td>13415.0</td>\n",
       "      <td>volvo</td>\n",
       "    </tr>\n",
       "    <tr>\n",
       "      <th>187</th>\n",
       "      <td>15985.0</td>\n",
       "      <td>volvo</td>\n",
       "    </tr>\n",
       "    <tr>\n",
       "      <th>188</th>\n",
       "      <td>16515.0</td>\n",
       "      <td>volvo</td>\n",
       "    </tr>\n",
       "    <tr>\n",
       "      <th>189</th>\n",
       "      <td>18420.0</td>\n",
       "      <td>volvo</td>\n",
       "    </tr>\n",
       "    <tr>\n",
       "      <th>190</th>\n",
       "      <td>18950.0</td>\n",
       "      <td>volvo</td>\n",
       "    </tr>\n",
       "    <tr>\n",
       "      <th>191</th>\n",
       "      <td>16845.0</td>\n",
       "      <td>volvo</td>\n",
       "    </tr>\n",
       "    <tr>\n",
       "      <th>192</th>\n",
       "      <td>19045.0</td>\n",
       "      <td>volvo</td>\n",
       "    </tr>\n",
       "    <tr>\n",
       "      <th>193</th>\n",
       "      <td>21485.0</td>\n",
       "      <td>volvo</td>\n",
       "    </tr>\n",
       "    <tr>\n",
       "      <th>194</th>\n",
       "      <td>22470.0</td>\n",
       "      <td>volvo</td>\n",
       "    </tr>\n",
       "    <tr>\n",
       "      <th>195</th>\n",
       "      <td>22625.0</td>\n",
       "      <td>volvo</td>\n",
       "    </tr>\n",
       "  </tbody>\n",
       "</table>\n",
       "</div>"
      ],
      "text/plain": [
       "       price   make\n",
       "29    6479.0  honda\n",
       "30    6855.0  honda\n",
       "31    5399.0  honda\n",
       "32    6529.0  honda\n",
       "33    7129.0  honda\n",
       "34    7295.0  honda\n",
       "35    7295.0  honda\n",
       "36    7895.0  honda\n",
       "37    9095.0  honda\n",
       "38    8845.0  honda\n",
       "39   10295.0  honda\n",
       "40   12945.0  honda\n",
       "41   10345.0  honda\n",
       "185  12940.0  volvo\n",
       "186  13415.0  volvo\n",
       "187  15985.0  volvo\n",
       "188  16515.0  volvo\n",
       "189  18420.0  volvo\n",
       "190  18950.0  volvo\n",
       "191  16845.0  volvo\n",
       "192  19045.0  volvo\n",
       "193  21485.0  volvo\n",
       "194  22470.0  volvo\n",
       "195  22625.0  volvo"
      ]
     },
     "execution_count": 28,
     "metadata": {},
     "output_type": "execute_result"
    }
   ],
   "source": [
    "#lets see how differ the mean values of the price for some car models and so see if they can allow \n",
    "#us to predict the price of the car\n",
    "volvo_honda = df[[\"price\", \"make\"]][(df[\"make\"]==\"volvo\") | (df[\"make\"]==\"honda\")]\n",
    "volvo_honda"
   ]
  },
  {
   "cell_type": "code",
   "execution_count": 29,
   "metadata": {},
   "outputs": [
    {
     "data": {
      "text/plain": [
       "<matplotlib.axes._subplots.AxesSubplot at 0x7f809ec37ba8>"
      ]
     },
     "execution_count": 29,
     "metadata": {},
     "output_type": "execute_result"
    },
    {
     "data": {
      "image/png": "[encoded data removed]",
      "text/plain": [
       "<Figure size 576x360 with 1 Axes>"
      ]
     },
     "metadata": {
      "needs_background": "light"
     },
     "output_type": "display_data"
    }
   ],
   "source": [
    "fig,ax = plt.subplots(figsize=(8,5))\n",
    "sbn.boxplot(data=volvo_honda, x=\"make\", y=\"price\", showmeans=True, ax=ax)"
   ]
  },
  {
   "cell_type": "code",
   "execution_count": 30,
   "metadata": {},
   "outputs": [
    {
     "name": "stdout",
     "output_type": "stream",
     "text": [
      "ANOVA: f_val = 79.5134 p_val = 0.0000000093\n"
     ]
    }
   ],
   "source": [
    "#so, as we can see there is a clear difference between the mean values of the two tipes of cars, but lets\n",
    "#use ANOVA to test this difference\n",
    "#for this we use stats.f_oneway from scipy\n",
    "group_volvoHonda = volvo_honda.groupby(by=\"make\")\n",
    "group_volvoHonda.get_group(name=\"honda\")\n",
    "f_val, p_val = sp.stats.f_oneway(group_volvoHonda.get_group(name=\"honda\")[\"price\"], group_volvoHonda.get_group(name=\"volvo\")[\"price\"])\n",
    "print(\"ANOVA: f_val = %.4f p_val = %.10f\" %(f_val, p_val))"
   ]
  },
  {
   "cell_type": "code",
   "execution_count": 31,
   "metadata": {},
   "outputs": [
    {
     "data": {
      "text/plain": [
       "<matplotlib.axes._subplots.AxesSubplot at 0x7f809ec06438>"
      ]
     },
     "execution_count": 31,
     "metadata": {},
     "output_type": "execute_result"
    },
    {
     "data": {
      "image/png": "[encoded data removed]",
      "text/plain": [
       "<Figure size 432x288 with 1 Axes>"
      ]
     },
     "metadata": {
      "needs_background": "light"
     },
     "output_type": "display_data"
    }
   ],
   "source": [
    "#we got a large f-value and a small p-value, then we can reject the null hypothesis that the means are the same.\n",
    "#lets test another models: saab and peugot\n",
    "saab_peugot = df[[\"make\", \"price\"]][(df[\"make\"]==\"saab\") | (df[\"make\"]==\"peugot\")]\n",
    "sbn.boxplot(data=saab_peugot, x=\"make\", y=\"price\")"
   ]
  },
  {
   "cell_type": "code",
   "execution_count": 32,
   "metadata": {},
   "outputs": [
    {
     "name": "stdout",
     "output_type": "stream",
     "text": [
      "ANOVA: f_val = 0.0450 p_val = 0.8348594642\n"
     ]
    }
   ],
   "source": [
    "saab_peugot = saab_peugot.groupby(by=\"make\")\n",
    "f_val, p_val = sp.stats.f_oneway(saab_peugot.get_group(name=\"saab\")[\"price\"], saab_peugot.get_group(name=\"peugot\")[\"price\"])\n",
    "print(\"ANOVA: f_val = %.4f p_val = %.10f\" %(f_val, p_val))"
   ]
  },
  {
   "cell_type": "code",
   "execution_count": 33,
   "metadata": {},
   "outputs": [],
   "source": [
    "#here we see a small f-value and a large p-value meaning that the mean values of both groups\n",
    "#are similarly each other and so we can not reject the null hypothesis"
   ]
  },
  {
   "cell_type": "code",
   "execution_count": 34,
   "metadata": {},
   "outputs": [
    {
     "data": {
      "text/plain": [
       "dict_keys(['alfa-romero', 'audi', 'bmw', 'chevrolet', 'dodge', 'honda', 'isuzu', 'jaguar', 'mazda', 'mercedes-benz', 'mercury', 'mitsubishi', 'nissan', 'peugot', 'plymouth', 'porsche', 'renault', 'saab', 'subaru', 'toyota', 'volkswagen', 'volvo'])"
      ]
     },
     "execution_count": 34,
     "metadata": {},
     "output_type": "execute_result"
    }
   ],
   "source": [
    "#or we can even test for several model at the same time\n",
    "make_group = df[[\"price\", \"make\"]].groupby(by=\"make\")\n",
    "make_group.groups.keys()"
   ]
  },
  {
   "cell_type": "code",
   "execution_count": 35,
   "metadata": {},
   "outputs": [
    {
     "name": "stdout",
     "output_type": "stream",
     "text": [
      "ANOVA: f_val =  31.278119352355812 p_val = 3.8352790812292106e-48\n"
     ]
    }
   ],
   "source": [
    "f_val, p_val = sp.stats.f_oneway(make_group.get_group(\"alfa-romero\")[\"price\"],\n",
    "                                 make_group.get_group(\"audi\")[\"price\"],\n",
    "                                 make_group.get_group(\"bmw\")[\"price\"],\n",
    "                                 make_group.get_group(\"chevrolet\")[\"price\"],\n",
    "                                 make_group.get_group(\"dodge\")[\"price\"],\n",
    "                                 make_group.get_group(\"honda\")[\"price\"],\n",
    "                                 make_group.get_group(\"isuzu\")[\"price\"],\n",
    "                                 make_group.get_group(\"jaguar\")[\"price\"],\n",
    "                                 make_group.get_group(\"mazda\")[\"price\"],\n",
    "                                 make_group.get_group(\"mercedes-benz\")[\"price\"],\n",
    "                                 make_group.get_group(\"mercury\")[\"price\"],\n",
    "                                 make_group.get_group(\"mitsubishi\")[\"price\"],\n",
    "                                 make_group.get_group(\"nissan\")[\"price\"],\n",
    "                                 make_group.get_group(\"peugot\")[\"price\"],\n",
    "                                 make_group.get_group(\"plymouth\")[\"price\"],\n",
    "                                 make_group.get_group(\"porsche\")[\"price\"],\n",
    "                                 make_group.get_group(\"renault\")[\"price\"],\n",
    "                                 make_group.get_group(\"saab\")[\"price\"],\n",
    "                                 make_group.get_group(\"subaru\")[\"price\"],\n",
    "                                 make_group.get_group(\"toyota\")[\"price\"],\n",
    "                                 make_group.get_group(\"volkswagen\")[\"price\"],\n",
    "                                 make_group.get_group(\"volvo\")[\"price\"])\n",
    "print(\"ANOVA: f_val = \",f_val, \"p_val =\", p_val)"
   ]
  },
  {
   "cell_type": "code",
   "execution_count": 44,
   "metadata": {},
   "outputs": [
    {
     "name": "stdout",
     "output_type": "stream",
     "text": [
      "                            OLS Regression Results                            \n",
      "==============================================================================\n",
      "Dep. Variable:                  price   R-squared:                       0.791\n",
      "Model:                            OLS   Adj. R-squared:                  0.765\n",
      "Method:                 Least Squares   F-statistic:                     31.28\n",
      "Date:                Wed, 30 Mar 2022   Prob (F-statistic):           3.84e-48\n",
      "Time:                        11:04:37   Log-Likelihood:                -1882.8\n",
      "No. Observations:                 196   AIC:                             3810.\n",
      "Df Residuals:                     174   BIC:                             3882.\n",
      "Df Model:                          21                                         \n",
      "Covariance Type:            nonrobust                                         \n",
      "============================================================================================\n",
      "                               coef    std err          t      P>|t|      [0.025      0.975]\n",
      "--------------------------------------------------------------------------------------------\n",
      "Intercept                  1.55e+04   2202.940      7.035      0.000    1.12e+04    1.98e+04\n",
      "C(make)[T.audi]           2360.8333   2698.040      0.875      0.383   -2964.264    7685.931\n",
      "C(make)[T.bmw]            1.062e+04   2583.176      4.111      0.000    5522.024    1.57e+04\n",
      "C(make)[T.chevrolet]     -9491.3333   3115.428     -3.047      0.003   -1.56e+04   -3342.440\n",
      "C(make)[T.dodge]         -7622.8889   2543.736     -2.997      0.003   -1.26e+04   -2602.339\n",
      "C(make)[T.honda]         -7313.6410   2443.943     -2.993      0.003   -1.21e+04   -2490.052\n",
      "C(make)[T.isuzu]         -6581.8333   3483.154     -1.890      0.060   -1.35e+04     292.838\n",
      "C(make)[T.jaguar]          1.84e+04   3483.154      5.283      0.000    1.15e+04    2.53e+04\n",
      "C(make)[T.mazda]         -5573.7949   2443.943     -2.281      0.024   -1.04e+04    -750.206\n",
      "C(make)[T.mercedes-benz]  1.815e+04   2583.176      7.026      0.000    1.31e+04    2.32e+04\n",
      "C(make)[T.mercury]        1004.6667   4405.880      0.228      0.820   -7691.182    9700.515\n",
      "C(make)[T.mitsubishi]    -6258.5641   2443.943     -2.561      0.011   -1.11e+04   -1434.975\n",
      "C(make)[T.nissan]        -5082.6667   2379.447     -2.136      0.034   -9778.962    -386.372\n",
      "C(make)[T.peugot]           -9.2424   2485.252     -0.004      0.997   -4914.362    4895.878\n",
      "C(make)[T.plymouth]      -7534.9048   2633.017     -2.862      0.005   -1.27e+04   -2338.141\n",
      "C(make)[T.porsche]         1.59e+04   2914.216      5.457      0.000    1.02e+04    2.17e+04\n",
      "C(make)[T.renault]       -5903.3333   3483.154     -1.695      0.092   -1.28e+04     971.338\n",
      "C(make)[T.saab]           -275.0000   2698.040     -0.102      0.919   -5600.098    5050.098\n",
      "C(make)[T.subaru]        -6957.0833   2462.962     -2.825      0.005   -1.18e+04   -2095.956\n",
      "C(make)[T.toyota]        -5612.5208   2303.890     -2.436      0.016   -1.02e+04   -1065.353\n",
      "C(make)[T.volkswagen]    -5420.8333   2462.962     -2.201      0.029   -1.03e+04    -559.706\n",
      "C(make)[T.volvo]          2564.8485   2485.252      1.032      0.303   -2340.271    7469.968\n",
      "==============================================================================\n",
      "Omnibus:                       32.094   Durbin-Watson:                   1.052\n",
      "Prob(Omnibus):                  0.000   Jarque-Bera (JB):               58.788\n",
      "Skew:                           0.823   Prob(JB):                     1.72e-13\n",
      "Kurtosis:                       5.119   Cond. No.                         39.9\n",
      "==============================================================================\n",
      "\n",
      "Warnings:\n",
      "[1] Standard Errors assume that the covariance matrix of the errors is correctly specified.\n"
     ]
    },
    {
     "data": {
      "text/html": [
       "<div>\n",
       "<style scoped>\n",
       "    .dataframe tbody tr th:only-of-type {\n",
       "        vertical-align: middle;\n",
       "    }\n",
       "\n",
       "    .dataframe tbody tr th {\n",
       "        vertical-align: top;\n",
       "    }\n",
       "\n",
       "    .dataframe thead th {\n",
       "        text-align: right;\n",
       "    }\n",
       "</style>\n",
       "<table border=\"1\" class=\"dataframe\">\n",
       "  <thead>\n",
       "    <tr style=\"text-align: right;\">\n",
       "      <th></th>\n",
       "      <th>df</th>\n",
       "      <th>sum_sq</th>\n",
       "      <th>mean_sq</th>\n",
       "      <th>F</th>\n",
       "      <th>PR(&gt;F)</th>\n",
       "    </tr>\n",
       "  </thead>\n",
       "  <tbody>\n",
       "    <tr>\n",
       "      <th>C(make)</th>\n",
       "      <td>21.0</td>\n",
       "      <td>9.562833e+09</td>\n",
       "      <td>4.553730e+08</td>\n",
       "      <td>31.278119</td>\n",
       "      <td>3.835279e-48</td>\n",
       "    </tr>\n",
       "    <tr>\n",
       "      <th>Residual</th>\n",
       "      <td>174.0</td>\n",
       "      <td>2.533237e+09</td>\n",
       "      <td>1.455884e+07</td>\n",
       "      <td>NaN</td>\n",
       "      <td>NaN</td>\n",
       "    </tr>\n",
       "  </tbody>\n",
       "</table>\n",
       "</div>"
      ],
      "text/plain": [
       "             df        sum_sq       mean_sq          F        PR(>F)\n",
       "C(make)    21.0  9.562833e+09  4.553730e+08  31.278119  3.835279e-48\n",
       "Residual  174.0  2.533237e+09  1.455884e+07        NaN           NaN"
      ]
     },
     "execution_count": 44,
     "metadata": {},
     "output_type": "execute_result"
    }
   ],
   "source": [
    "#lets do this same calculation but using ols:\n",
    "anova_pm_ols = ols(data=df, formula=\"price~C(make)\").fit()\n",
    "print(anova_pm_ols.summary())\n",
    "sm.stats.anova_lm(anova_pm_ols)"
   ]
  },
  {
   "cell_type": "code",
   "execution_count": 36,
   "metadata": {},
   "outputs": [],
   "source": [
    "#and as we can see, both methods (ols and scipy f_oneway) give us the same result and\n",
    "#we can say that the model (make) of the car is a good predictor for the price\n",
    "#although in this example as we know there are car models that have mean values that are almost the same (under a ANOVA test)\n",
    "#so, if we want to see which ones have this issue we can to permorm a Test Post-hoc. "
   ]
  },
  {
   "cell_type": "markdown",
   "metadata": {},
   "source": [
    "# Test Post-hoc"
   ]
  },
  {
   "cell_type": "code",
   "execution_count": 50,
   "metadata": {
    "scrolled": false
   },
   "outputs": [
    {
     "name": "stdout",
     "output_type": "stream",
     "text": [
      "          Multiple Comparison of Means - Tukey HSD,FWER=0.05          \n",
      "======================================================================\n",
      "    group1        group2      meandiff     lower       upper    reject\n",
      "----------------------------------------------------------------------\n",
      " alfa-romero       audi      2360.8333   -7489.1937  12210.8603 False \n",
      " alfa-romero       bmw       10620.4167  1189.7338   20051.0995  True \n",
      " alfa-romero    chevrolet    -9491.3333 -20865.1648  1882.4982  False \n",
      " alfa-romero      dodge      -7622.8889 -16909.5834  1663.8056  False \n",
      " alfa-romero      honda      -7313.641  -16236.0085  1608.7265  False \n",
      " alfa-romero      isuzu      -6581.8333 -19298.1635  6134.4969  False \n",
      " alfa-romero      jaguar     18401.6667  5685.3365   31117.9969  True \n",
      " alfa-romero      mazda      -5573.7949 -14496.1624  3348.5726  False \n",
      " alfa-romero  mercedes-benz  18148.6667  8717.9838   27579.3495  True \n",
      " alfa-romero     mercury     1004.6667  -15080.3601  17089.6934 False \n",
      " alfa-romero    mitsubishi   -6258.5641 -15180.9316  2663.8034  False \n",
      " alfa-romero      nissan     -5082.6667  -13769.574  3604.2406  False \n",
      " alfa-romero      peugot      -9.2424    -9082.4212  9063.9363  False \n",
      " alfa-romero     plymouth    -7534.9048 -17147.5468  2077.7373  False \n",
      " alfa-romero     porsche     15902.1667  5262.9215   26541.4118  True \n",
      " alfa-romero     renault     -5903.3333 -18619.6635  6812.9969  False \n",
      " alfa-romero       saab        -275.0    -10125.027   9575.027  False \n",
      " alfa-romero      subaru     -6957.0833 -15948.8866   2034.72   False \n",
      " alfa-romero      toyota     -5612.5208 -14023.5827   2798.541  False \n",
      " alfa-romero    volkswagen   -5420.8333 -14412.6366   3570.97   False \n",
      " alfa-romero      volvo      2564.8485   -6508.3303  11638.0272 False \n",
      "     audi          bmw       8259.5833    736.5009   15782.6657  True \n",
      "     audi       chevrolet   -11852.1667 -21702.1937  -2002.1397  True \n",
      "     audi         dodge      -9983.7222 -17325.4989  -2641.9456  True \n",
      "     audi         honda      -9674.4744 -16549.6202  -2799.3285  True \n",
      "     audi         isuzu      -8942.6667 -20316.4982  2431.1648  False \n",
      "     audi         jaguar     16040.8333  4667.0018   27414.6648  True \n",
      "     audi         mazda      -7934.6282 -14809.7741  -1059.4823  True \n",
      "     audi     mercedes-benz  15787.8333  8264.7509   23310.9157  True \n",
      "     audi        mercury     -1356.1667 -16402.3315  13689.9981 False \n",
      "     audi       mitsubishi   -8619.3974 -15494.5433  -1744.2515  True \n",
      "     audi         nissan      -7443.5   -14010.1847  -876.8153   True \n",
      "     audi         peugot     -2370.0758  -9439.8397  4699.6882  False \n",
      "     audi        plymouth    -9895.7381 -17645.6979  -2145.7783  True \n",
      "     audi        porsche     13541.3333   4549.53    22533.1366  True \n",
      "     audi        renault     -8264.1667 -19637.9982  3109.6648  False \n",
      "     audi          saab      -2635.8333 -10678.3467   5406.68   False \n",
      "     audi         subaru     -9317.9167 -16282.9376  -2352.8958  True \n",
      "     audi         toyota     -7973.3542 -14170.5269  -1776.1814  True \n",
      "     audi       volkswagen   -7781.6667 -14746.6876  -816.6458   True \n",
      "     audi         volvo       204.0152   -6865.7488  7273.7791  False \n",
      "     bmw        chevrolet    -20111.75  -29542.4329 -10681.0671  True \n",
      "     bmw          dodge     -18243.3056 -25012.0892 -11474.5219  True \n",
      "     bmw          honda     -17934.0577 -24193.6406 -11674.4748  True \n",
      "     bmw          isuzu      -17202.25   -28214.915  -6189.585   True \n",
      "     bmw          jaguar      7781.25    -3231.415   18793.915  False \n",
      "     bmw          mazda     -16194.2115 -22453.7945  -9934.6286  True \n",
      "     bmw      mercedes-benz   7528.25     563.2291   14493.2709  True \n",
      "     bmw         mercury      -9615.75  -24390.7905  5159.2905  False \n",
      "     bmw        mitsubishi  -16878.9808 -23138.5637 -10619.3978  True \n",
      "     bmw          nissan    -15703.0833 -21622.2129  -9783.9538  True \n",
      "     bmw          peugot    -10629.6591 -17102.3949  -4156.9232  True \n",
      "     bmw         plymouth   -18155.3214  -25364.803 -10945.8399  True \n",
      "     bmw         porsche      5281.75    -3248.6236  13812.1236 False \n",
      "     bmw         renault     -16523.75   -27536.415  -5511.085   True \n",
      "     bmw           saab     -10895.4167 -18418.4991  -3372.3343  True \n",
      "     bmw          subaru      -17577.5  -23935.6651 -11219.3349  True \n",
      "     bmw          toyota    -16232.9375  -21739.27   -10726.605  True \n",
      "     bmw        volkswagen   -16041.25  -22399.4151  -9683.0849  True \n",
      "     bmw          volvo      -8055.5682  -14528.304  -1582.8323  True \n",
      "  chevrolet       dodge      1868.4444   -7418.2501  11155.139  False \n",
      "  chevrolet       honda      2177.6923   -6744.6752  11100.0598 False \n",
      "  chevrolet       isuzu        2909.5    -9806.8302  15625.8302 False \n",
      "  chevrolet       jaguar      27893.0    15176.6698  40609.3302  True \n",
      "  chevrolet       mazda      3917.5385   -5004.829   12839.906  False \n",
      "  chevrolet   mercedes-benz   27640.0    18209.3171  37070.6829  True \n",
      "  chevrolet      mercury      10496.0    -5589.0268  26581.0268 False \n",
      "  chevrolet     mitsubishi   3232.7692   -5689.5983  12155.1367 False \n",
      "  chevrolet       nissan     4408.6667   -4278.2406  13095.574  False \n",
      "  chevrolet       peugot     9482.0909    408.9122   18555.2697  True \n",
      "  chevrolet      plymouth    1956.4286   -7656.2135  11569.0706 False \n",
      "  chevrolet      porsche      25393.5    14754.2548  36032.7452  True \n",
      "  chevrolet      renault       3588.0    -9128.3302  16304.3302 False \n",
      "  chevrolet        saab      9216.3333   -633.6937   19066.3603 False \n",
      "  chevrolet       subaru      2534.25    -6457.5533  11526.0533 False \n",
      "  chevrolet       toyota     3878.8125   -4532.2493  12289.8743 False \n",
      "  chevrolet     volkswagen     4070.5    -4921.3033  13062.3033 False \n",
      "  chevrolet       volvo      12056.1818  2983.0031   21129.3606  True \n",
      "    dodge         honda       309.2479   -5731.2235  6349.7192  False \n",
      "    dodge         isuzu      1041.0556   -9848.559   11930.6701 False \n",
      "    dodge         jaguar     26024.5556  15134.941   36914.1701  True \n",
      "    dodge         mazda       2049.094   -3991.3773  8089.5654  False \n",
      "    dodge     mercedes-benz  25771.5556  19002.7719  32540.3392  True \n",
      "    dodge        mercury     8627.5556   -6055.9978  23311.1089 False \n",
      "    dodge       mitsubishi   1364.3248   -4676.1466  7404.7961  False \n",
      "    dodge         nissan     2540.2222   -3146.6935   8227.138  False \n",
      "    dodge         peugot     7613.6465   1352.5583   13874.7346  True \n",
      "    dodge        plymouth     87.9841    -6932.0971  7108.0653  False \n",
      "    dodge        porsche     23525.0556  15154.1422  31895.9689  True \n",
      "    dodge        renault     1719.5556   -9170.059   12609.1701 False \n",
      "    dodge          saab      7347.8889     6.1122    14689.6655  True \n",
      "    dodge         subaru      665.8056   -5476.7655  6808.3766  False \n",
      "    dodge         toyota     2010.3681   -3245.5442  7266.2803  False \n",
      "    dodge       volkswagen   2202.0556   -3940.5155  8344.6266  False \n",
      "    dodge         volvo      10187.7374  3926.6492   16448.8255  True \n",
      "    honda         isuzu       731.8077   -9848.8186  11312.434  False \n",
      "    honda         jaguar     25715.3077  15134.6814  36295.934   True \n",
      "    honda         mazda      1739.8462   -3723.9658  7203.6581  False \n",
      "    honda     mercedes-benz  25462.3077  19202.7248  31721.8906  True \n",
      "    honda        mercury     8318.3077   -6137.5798  22774.1952 False \n",
      "    honda       mitsubishi   1055.0769   -4408.735   6518.8888  False \n",
      "    honda         nissan     2230.9744   -2839.2285  7301.1772  False \n",
      "    honda         peugot     7304.3986   1597.6332   13011.164   True \n",
      "    honda        plymouth    -221.2637   -6751.7681  6309.2406  False \n",
      "    honda        porsche     23215.8077  15251.0016  31180.6138  True \n",
      "    honda        renault     1410.3077   -9170.3186  11990.934  False \n",
      "    honda          saab       7038.641    163.4951   13913.7869  True \n",
      "    honda         subaru      356.5577   -5219.922   5933.0374  False \n",
      "    honda         toyota     1701.1202   -2880.4254  6282.6658  False \n",
      "    honda       volkswagen   1892.8077   -3683.672   7469.2874  False \n",
      "    honda         volvo      9878.4895   4171.7241   15585.2549  True \n",
      "    isuzu         jaguar      24983.5    11053.4582  38913.5418  True \n",
      "    isuzu         mazda      1008.0385   -9572.5878  11588.6647 False \n",
      "    isuzu     mercedes-benz   24730.5    13717.835   35743.165   True \n",
      "    isuzu        mercury       7586.5    -9474.2472  24647.2472 False \n",
      "    isuzu       mitsubishi    323.2692   -10257.357  10903.8955 False \n",
      "    isuzu         nissan     1499.1667   -8883.6735  11882.0068 False \n",
      "    isuzu         peugot     6572.5909   -4135.5174  17280.6992 False \n",
      "    isuzu        plymouth    -953.0714  -12121.9522  10215.8094 False \n",
      "    isuzu        porsche      22484.0    10420.2299  34547.7701  True \n",
      "    isuzu        renault       678.5    -13251.5418  14608.5418 False \n",
      "    isuzu          saab      6306.8333   -5066.9982  17680.6648 False \n",
      "    isuzu         subaru      -375.25   -11014.4952  10263.9952 False \n",
      "    isuzu         toyota      969.3125   -9183.8629  11122.4879 False \n",
      "    isuzu       volkswagen     1161.0    -9478.2452  11800.2452 False \n",
      "    isuzu         volvo      9146.6818   -1561.4265  19854.7901 False \n",
      "    jaguar        mazda     -23975.4615 -34556.0878 -13394.8353  True \n",
      "    jaguar    mercedes-benz    -253.0    -11265.665  10759.665  False \n",
      "    jaguar       mercury      -17397.0  -34457.7472  -336.2528   True \n",
      "    jaguar      mitsubishi  -24660.2308  -35240.857 -14079.6045  True \n",
      "    jaguar        nissan    -23484.3333 -33867.1735 -13101.4932  True \n",
      "    jaguar        peugot    -18410.9091 -29119.0174  -7702.8008  True \n",
      "    jaguar       plymouth   -25936.5714 -37105.4522 -14767.6906  True \n",
      "    jaguar       porsche      -2499.5   -14563.2701  9564.2701  False \n",
      "    jaguar       renault      -24305.0  -38235.0418 -10374.9582  True \n",
      "    jaguar         saab     -18676.6667 -30050.4982  -7302.8352  True \n",
      "    jaguar        subaru     -25358.75  -35997.9952 -14719.5048  True \n",
      "    jaguar        toyota    -24014.1875 -34167.3629 -13861.0121  True \n",
      "    jaguar      volkswagen    -23822.5  -34461.7452 -13183.2548  True \n",
      "    jaguar        volvo     -15836.8182 -26544.9265  -5128.7099  True \n",
      "    mazda     mercedes-benz  23722.4615  17462.8786  29982.0445  True \n",
      "    mazda        mercury     6578.4615   -7877.426   21034.3491 False \n",
      "    mazda       mitsubishi   -684.7692   -6148.5811  4779.0427  False \n",
      "    mazda         nissan      491.1282   -4579.0747  5561.3311  False \n",
      "    mazda         peugot     5564.5524    -142.213   11271.3179 False \n",
      "    mazda        plymouth    -1961.1099  -8491.6142  4569.3944  False \n",
      "    mazda        porsche     21475.9615  13511.1554  29440.7676  True \n",
      "    mazda        renault     -329.5385  -10910.1647  10251.0878 False \n",
      "    mazda          saab      5298.7949   -1576.351   12173.9408 False \n",
      "    mazda         subaru     -1383.2885  -6959.7681  4193.1912  False \n",
      "    mazda         toyota      -38.726    -4620.2715  4542.8196  False \n",
      "    mazda       volkswagen    152.9615   -5423.5181  5729.4412  False \n",
      "    mazda         volvo      8138.6434   2431.8779   13845.4088  True \n",
      "mercedes-benz    mercury      -17144.0  -31919.0405  -2368.9595  True \n",
      "mercedes-benz   mitsubishi  -24407.2308 -30666.8137 -18147.6478  True \n",
      "mercedes-benz     nissan    -23231.3333 -29150.4629 -17312.2038  True \n",
      "mercedes-benz     peugot    -18157.9091 -24630.6449 -11685.1732  True \n",
      "mercedes-benz    plymouth   -25683.5714  -32893.053 -18474.0899  True \n",
      "mercedes-benz    porsche      -2246.5   -10776.8736  6283.8736  False \n",
      "mercedes-benz    renault      -24052.0   -35064.665  -13039.335  True \n",
      "mercedes-benz      saab     -18423.6667 -25946.7491 -10900.5843  True \n",
      "mercedes-benz     subaru     -25105.75  -31463.9151 -18747.5849  True \n",
      "mercedes-benz     toyota    -23761.1875  -29267.52   -18254.855  True \n",
      "mercedes-benz   volkswagen    -23569.5  -29927.6651 -17211.3349  True \n",
      "mercedes-benz     volvo     -15583.8182  -22056.554  -9111.0823  True \n",
      "   mercury      mitsubishi   -7263.2308 -21719.1183  7192.6568  False \n",
      "   mercury        nissan     -6087.3333 -20399.0908  8224.4241  False \n",
      "   mercury        peugot     -1013.9091 -15563.3632  13535.545  False \n",
      "   mercury       plymouth    -8539.5714 -23431.4125  6352.2696  False \n",
      "   mercury       porsche      14897.5    -676.7602   30471.7602 False \n",
      "   mercury       renault      -6908.0   -23968.7472  10152.7472 False \n",
      "   mercury         saab      -1279.6667 -16325.8315  13766.4981 False \n",
      "   mercury        subaru      -7961.75  -22460.5972  6537.0972  False \n",
      "   mercury        toyota     -6617.1875 -20763.2118  7528.8368  False \n",
      "   mercury      volkswagen    -6425.5   -20924.3472  8073.3472  False \n",
      "   mercury        volvo      1560.1818  -12989.2723  16109.6359 False \n",
      "  mitsubishi      nissan     1175.8974   -3894.3054  6246.1003  False \n",
      "  mitsubishi      peugot     6249.3217    542.5563   11956.0871  True \n",
      "  mitsubishi     plymouth    -1276.3407  -7806.845   5254.1637  False \n",
      "  mitsubishi     porsche     22160.7308  14195.9247  30125.5369  True \n",
      "  mitsubishi     renault      355.2308  -10225.3955  10935.857  False \n",
      "  mitsubishi       saab      5983.5641   -891.5818    12858.71  False \n",
      "  mitsubishi      subaru     -698.5192   -6274.9989  4877.9605  False \n",
      "  mitsubishi      toyota      646.0433   -3935.5023  5227.5888  False \n",
      "  mitsubishi    volkswagen    837.7308   -4738.7489  6414.2105  False \n",
      "  mitsubishi      volvo      8823.4126   3116.6472   14530.178   True \n",
      "    nissan        peugot     5073.4242   -257.7002   10404.5487 False \n",
      "    nissan       plymouth    -2452.2381  -8657.1719  3752.6957  False \n",
      "    nissan       porsche     20984.8333  13284.713   28684.9537  True \n",
      "    nissan       renault     -820.6667  -11203.5068  9562.1735  False \n",
      "    nissan         saab      4807.6667   -1759.018   11374.3513 False \n",
      "    nissan        subaru     -1874.4167  -7065.8367  3317.0034  False \n",
      "    nissan        toyota     -529.8542   -4634.0321  3574.3238  False \n",
      "    nissan      volkswagen   -338.1667   -5529.5867  4853.2534  False \n",
      "    nissan        volvo      7647.5152   2316.3907   12978.6396  True \n",
      "    peugot       plymouth    -7525.6623 -14260.7509  -790.5738   True \n",
      "    peugot       porsche     15911.4091   7778.017   24044.8012  True \n",
      "    peugot       renault     -5894.0909 -16602.1992  4814.0174  False \n",
      "    peugot         saab      -265.7576   -7335.5215  6804.0064  False \n",
      "    peugot        subaru     -6947.8409 -12762.5685  -1133.1133  True \n",
      "    peugot        toyota     -5603.2784 -10472.0042  -734.5526   True \n",
      "    peugot      volkswagen   -5411.5909 -11226.3185   403.1367  False \n",
      "    peugot        volvo      2574.0909   -3365.6989  8513.8807  False \n",
      "   plymouth      porsche     23437.0714  14705.9557  32168.1872  True \n",
      "   plymouth      renault     1631.5714   -9537.3094  12800.4522 False \n",
      "   plymouth        saab      7259.9048    -490.055   15009.8646 False \n",
      "   plymouth       subaru      577.8214   -6047.2349  7202.8778  False \n",
      "   plymouth       toyota     1922.3839   -3890.0859  7734.8538  False \n",
      "   plymouth     volkswagen   2114.0714   -4510.9849  8739.1278  False \n",
      "   plymouth       volvo      10099.7532  3364.6647   16834.8418  True \n",
      "   porsche       renault      -21805.5  -33869.2701  -9741.7299  True \n",
      "   porsche         saab     -16177.1667  -25168.97   -7185.3634  True \n",
      "   porsche        subaru     -22859.25  -30901.7634 -14816.7366  True \n",
      "   porsche        toyota    -21514.6875 -28902.2078 -14127.1672  True \n",
      "   porsche      volkswagen    -21323.0  -29365.5134 -13280.4866  True \n",
      "   porsche        volvo     -13337.3182 -21470.7103  -5203.9261  True \n",
      "   renault         saab      5628.3333   -5745.4982  17002.1648 False \n",
      "   renault        subaru      -1053.75  -11692.9952  9585.4952  False \n",
      "   renault        toyota      290.8125   -9862.3629  10443.9879 False \n",
      "   renault      volkswagen     482.5    -10156.7452  11121.7452 False \n",
      "   renault        volvo      8468.1818   -2239.9265  19176.2901 False \n",
      "     saab         subaru     -6682.0833 -13647.1042   282.9376  False \n",
      "     saab         toyota     -5337.5208 -11534.6936   859.6519  False \n",
      "     saab       volkswagen   -5145.8333 -12110.8542  1819.1876  False \n",
      "     saab         volvo      2839.8485   -4229.9154  9909.6124  False \n",
      "    subaru        toyota     1344.5625   -3370.7789  6059.9039  False \n",
      "    subaru      volkswagen    1536.25    -4150.6657  7223.1657  False \n",
      "    subaru        volvo      9521.9318   3707.2043   15336.6594  True \n",
      "    toyota      volkswagen    191.6875   -4523.6539  4907.0289  False \n",
      "    toyota        volvo      8177.3693   3308.6435   13046.0951  True \n",
      "  volkswagen      volvo      7985.6818   2170.9543   13800.4094  True \n",
      "----------------------------------------------------------------------\n"
     ]
    }
   ],
   "source": [
    "comparisson = MultiComparison(df.price, df.make)\n",
    "comparisson = comparisson.tukeyhsd()\n",
    "print(comparisson)"
   ]
  },
  {
   "cell_type": "code",
   "execution_count": 51,
   "metadata": {},
   "outputs": [],
   "source": [
    "#reject tell us if we can or not reject the null hypothesis. For instance for honda and volvo we know that we can reject the nh\n",
    "#but for pegout and saab we cannot reject it."
   ]
  },
  {
   "cell_type": "code",
   "execution_count": null,
   "metadata": {},
   "outputs": [],
   "source": []
  }
 ],
 "metadata": {
  "kernelspec": {
   "display_name": "Python 3",
   "language": "python",
   "name": "python3"
  },
  "language_info": {
   "codemirror_mode": {
    "name": "ipython",
    "version": 3
   },
   "file_extension": ".py",
   "mimetype": "text/x-python",
   "name": "python",
   "nbconvert_exporter": "python",
   "pygments_lexer": "ipython3",
   "version": "3.6.5"
  }
 },
 "nbformat": 4,
 "nbformat_minor": 2
}
