{
 "cells": [
  {
   "cell_type": "code",
   "execution_count": 1,
   "metadata": {},
   "outputs": [],
   "source": [
    "import pandas as pd\n",
    "import numpy as np\n",
    "import scipy as sp\n",
    "\n",
    "import mlutils\n",
    "from sklearn.linear_model import LogisticRegression, LinearRegression, Ridge, Lasso\n",
    "from sklearn import metrics\n",
    "from sklearn.ensemble import RandomForestClassifier\n",
    "from sklearn.impute import SimpleImputer\n",
    "from sklearn.model_selection import train_test_split\n",
    "\n",
    "from sklearn.svm import SVC\n",
    "\n",
    "import seaborn as sbn\n",
    "import matplotlib.pyplot as plt"
   ]
  },
  {
   "cell_type": "code",
   "execution_count": null,
   "metadata": {},
   "outputs": [],
   "source": []
  },
  {
   "cell_type": "markdown",
   "metadata": {},
   "source": [
    "# Ridge"
   ]
  },
  {
   "cell_type": "code",
   "execution_count": 2,
   "metadata": {},
   "outputs": [
    {
     "data": {
      "text/plain": [
       "[<matplotlib.lines.Line2D at 0x7f40f1c19978>]"
      ]
     },
     "execution_count": 2,
     "metadata": {},
     "output_type": "execute_result"
    },
    {
     "data": {
      "image/png": "[encoded data removed]",
      "text/plain": [
       "<Figure size 576x432 with 1 Axes>"
      ]
     },
     "metadata": {
      "needs_background": "light"
     },
     "output_type": "display_data"
    }
   ],
   "source": [
    "#lets generate some linear random model and then add it some ramdom columns:\n",
    "np.random.seed(2357)\n",
    "n = 50\n",
    "x = np.random.randint(0, high=100, size=n)\n",
    "y = 5 + 3*x\n",
    "y = y + np.random.normal(loc=0, scale=20, size=n)\n",
    "\n",
    "#plot\n",
    "fig = plt.figure(figsize=(8,6))\n",
    "plt.scatter(x=x, y=y)\n",
    "plt.plot(x, 5+3*x, \"r-\")"
   ]
  },
  {
   "cell_type": "code",
   "execution_count": 3,
   "metadata": {},
   "outputs": [],
   "source": [
    "#and now lets create some new random columns to see how they affect the model\n",
    "np.random.seed(10)\n",
    "x1 = 10*np.random.rand(n)\n",
    "x2 = 10*np.random.rand(n)\n",
    "x3 = 10*np.random.rand(n)\n",
    "x4 = 10*np.random.rand(n)\n",
    "x5 = 10*np.random.rand(n)"
   ]
  },
  {
   "cell_type": "code",
   "execution_count": 4,
   "metadata": {},
   "outputs": [
    {
     "data": {
      "text/html": [
       "<div>\n",
       "<style scoped>\n",
       "    .dataframe tbody tr th:only-of-type {\n",
       "        vertical-align: middle;\n",
       "    }\n",
       "\n",
       "    .dataframe tbody tr th {\n",
       "        vertical-align: top;\n",
       "    }\n",
       "\n",
       "    .dataframe thead th {\n",
       "        text-align: right;\n",
       "    }\n",
       "</style>\n",
       "<table border=\"1\" class=\"dataframe\">\n",
       "  <thead>\n",
       "    <tr style=\"text-align: right;\">\n",
       "      <th></th>\n",
       "      <th>X</th>\n",
       "      <th>X1</th>\n",
       "      <th>X2</th>\n",
       "      <th>X3</th>\n",
       "      <th>X4</th>\n",
       "      <th>X5</th>\n",
       "      <th>Y</th>\n",
       "    </tr>\n",
       "  </thead>\n",
       "  <tbody>\n",
       "    <tr>\n",
       "      <th>0</th>\n",
       "      <td>47</td>\n",
       "      <td>7.713206</td>\n",
       "      <td>3.925292</td>\n",
       "      <td>5.781364</td>\n",
       "      <td>4.396052</td>\n",
       "      <td>8.133161</td>\n",
       "      <td>148.583578</td>\n",
       "    </tr>\n",
       "    <tr>\n",
       "      <th>1</th>\n",
       "      <td>35</td>\n",
       "      <td>0.207519</td>\n",
       "      <td>0.934604</td>\n",
       "      <td>8.539338</td>\n",
       "      <td>1.662021</td>\n",
       "      <td>7.848667</td>\n",
       "      <td>166.542750</td>\n",
       "    </tr>\n",
       "    <tr>\n",
       "      <th>2</th>\n",
       "      <td>78</td>\n",
       "      <td>6.336482</td>\n",
       "      <td>8.211057</td>\n",
       "      <td>0.680973</td>\n",
       "      <td>5.069786</td>\n",
       "      <td>3.934191</td>\n",
       "      <td>215.416583</td>\n",
       "    </tr>\n",
       "    <tr>\n",
       "      <th>3</th>\n",
       "      <td>48</td>\n",
       "      <td>7.488039</td>\n",
       "      <td>1.511520</td>\n",
       "      <td>4.645308</td>\n",
       "      <td>8.190359</td>\n",
       "      <td>8.644792</td>\n",
       "      <td>147.020466</td>\n",
       "    </tr>\n",
       "    <tr>\n",
       "      <th>4</th>\n",
       "      <td>26</td>\n",
       "      <td>4.985070</td>\n",
       "      <td>3.841144</td>\n",
       "      <td>7.819491</td>\n",
       "      <td>0.901067</td>\n",
       "      <td>3.840308</td>\n",
       "      <td>79.227429</td>\n",
       "    </tr>\n",
       "    <tr>\n",
       "      <th>5</th>\n",
       "      <td>80</td>\n",
       "      <td>2.247966</td>\n",
       "      <td>9.442607</td>\n",
       "      <td>7.186028</td>\n",
       "      <td>8.000688</td>\n",
       "      <td>2.573029</td>\n",
       "      <td>233.282227</td>\n",
       "    </tr>\n",
       "    <tr>\n",
       "      <th>6</th>\n",
       "      <td>61</td>\n",
       "      <td>1.980629</td>\n",
       "      <td>9.876255</td>\n",
       "      <td>5.860220</td>\n",
       "      <td>5.651264</td>\n",
       "      <td>8.294019</td>\n",
       "      <td>191.990250</td>\n",
       "    </tr>\n",
       "    <tr>\n",
       "      <th>7</th>\n",
       "      <td>16</td>\n",
       "      <td>7.605307</td>\n",
       "      <td>4.563045</td>\n",
       "      <td>0.370944</td>\n",
       "      <td>5.893477</td>\n",
       "      <td>7.363827</td>\n",
       "      <td>83.659685</td>\n",
       "    </tr>\n",
       "    <tr>\n",
       "      <th>8</th>\n",
       "      <td>65</td>\n",
       "      <td>1.691108</td>\n",
       "      <td>8.261228</td>\n",
       "      <td>3.506564</td>\n",
       "      <td>1.981007</td>\n",
       "      <td>5.076009</td>\n",
       "      <td>181.398016</td>\n",
       "    </tr>\n",
       "    <tr>\n",
       "      <th>9</th>\n",
       "      <td>46</td>\n",
       "      <td>0.883398</td>\n",
       "      <td>2.513741</td>\n",
       "      <td>5.631907</td>\n",
       "      <td>4.361183</td>\n",
       "      <td>6.443266</td>\n",
       "      <td>131.740169</td>\n",
       "    </tr>\n",
       "  </tbody>\n",
       "</table>\n",
       "</div>"
      ],
      "text/plain": [
       "    X        X1        X2        X3        X4        X5           Y\n",
       "0  47  7.713206  3.925292  5.781364  4.396052  8.133161  148.583578\n",
       "1  35  0.207519  0.934604  8.539338  1.662021  7.848667  166.542750\n",
       "2  78  6.336482  8.211057  0.680973  5.069786  3.934191  215.416583\n",
       "3  48  7.488039  1.511520  4.645308  8.190359  8.644792  147.020466\n",
       "4  26  4.985070  3.841144  7.819491  0.901067  3.840308   79.227429\n",
       "5  80  2.247966  9.442607  7.186028  8.000688  2.573029  233.282227\n",
       "6  61  1.980629  9.876255  5.860220  5.651264  8.294019  191.990250\n",
       "7  16  7.605307  4.563045  0.370944  5.893477  7.363827   83.659685\n",
       "8  65  1.691108  8.261228  3.506564  1.981007  5.076009  181.398016\n",
       "9  46  0.883398  2.513741  5.631907  4.361183  6.443266  131.740169"
      ]
     },
     "execution_count": 4,
     "metadata": {},
     "output_type": "execute_result"
    }
   ],
   "source": [
    "df = pd.DataFrame({\n",
    "    \"X\":x,\n",
    "    \"X1\":x1,\n",
    "    \"X2\":x2,\n",
    "    \"X3\":x3,\n",
    "    \"X4\":x4,\n",
    "    \"X5\":x5,\n",
    "    \"Y\":y\n",
    "})\n",
    "df.head(10)"
   ]
  },
  {
   "cell_type": "code",
   "execution_count": 5,
   "metadata": {},
   "outputs": [
    {
     "data": {
      "text/plain": [
       "Y     1.000000\n",
       "X     0.969971\n",
       "X5    0.117252\n",
       "X1    0.029047\n",
       "X3   -0.046219\n",
       "X4   -0.103894\n",
       "X2   -0.210493\n",
       "Name: Y, dtype: float64"
      ]
     },
     "execution_count": 5,
     "metadata": {},
     "output_type": "execute_result"
    }
   ],
   "source": [
    "#the correlation of Y with the variables X1 and X2 is not significant\n",
    "df.corr()[\"Y\"].sort_values(ascending=False)"
   ]
  },
  {
   "cell_type": "code",
   "execution_count": 6,
   "metadata": {},
   "outputs": [
    {
     "data": {
      "text/plain": [
       "LinearRegression()"
      ]
     },
     "execution_count": 6,
     "metadata": {},
     "output_type": "execute_result"
    }
   ],
   "source": [
    "#target\n",
    "Y = df[\"Y\"]\n",
    "\n",
    "#feactures\n",
    "X = df[[\"X\"]]\n",
    "\n",
    "#spliting\n",
    "X_train, X_test, y_train, y_test = train_test_split(X, Y, random_state=123, test_size=0.2)\n",
    "\n",
    "#model:\n",
    "lr = LinearRegression()\n",
    "\n",
    "#training\n",
    "lr.fit(X=X_train, y=y_train)"
   ]
  },
  {
   "cell_type": "code",
   "execution_count": 7,
   "metadata": {},
   "outputs": [
    {
     "data": {
      "text/plain": [
       "(array([2.99805628]), 7.691511143926846)"
      ]
     },
     "execution_count": 7,
     "metadata": {},
     "output_type": "execute_result"
    }
   ],
   "source": [
    "lr.coef_, lr.intercept_"
   ]
  },
  {
   "cell_type": "code",
   "execution_count": 8,
   "metadata": {},
   "outputs": [
    {
     "name": "stdout",
     "output_type": "stream",
     "text": [
      "score training: 0.9418316171357723\n",
      "score testing:  0.9253332970166241\n",
      "MSE: 16.395525776639015\n",
      "RMSE: 23.19571976255625\n"
     ]
    }
   ],
   "source": [
    "y_pred = lr.predict(X=X_test)\n",
    "print(\"score training:\", lr.score(X=X_train, y=y_train))\n",
    "print(\"score testing: \", lr.score(X=X_test, y=y_test))\n",
    "print(\"MSE:\", metrics.mean_absolute_error(y_pred=y_pred, y_true=y_test))\n",
    "print(\"RMSE:\", metrics.mean_squared_error(y_pred=y_pred, y_true=y_test)**0.5)"
   ]
  },
  {
   "cell_type": "code",
   "execution_count": 9,
   "metadata": {},
   "outputs": [
    {
     "data": {
      "text/plain": [
       "LinearRegression()"
      ]
     },
     "execution_count": 9,
     "metadata": {},
     "output_type": "execute_result"
    }
   ],
   "source": [
    "#now lets see what happen if we add the X1, X2 columns\n",
    "X2 = df.drop(\"Y\", axis=1)\n",
    "\n",
    "#split\n",
    "X2_train, X2_test, y2_train, y2_test = train_test_split(X2, Y, random_state=123, test_size=0.2)\n",
    "\n",
    "#model and training\n",
    "lr2 = LinearRegression()\n",
    "lr2.fit(X=X2_train, y=y2_train)"
   ]
  },
  {
   "cell_type": "code",
   "execution_count": 10,
   "metadata": {},
   "outputs": [
    {
     "data": {
      "text/plain": [
       "(array([ 2.92392354,  1.09659846, -1.91394591, -0.88361606, -0.97944686,\n",
       "         1.86922481]), 13.97262110107522)"
      ]
     },
     "execution_count": 10,
     "metadata": {},
     "output_type": "execute_result"
    }
   ],
   "source": [
    "lr2.coef_, lr2.intercept_"
   ]
  },
  {
   "cell_type": "code",
   "execution_count": 11,
   "metadata": {},
   "outputs": [
    {
     "name": "stdout",
     "output_type": "stream",
     "text": [
      "score training: 0.9510229282346897\n",
      "score testing:  0.9233644783065608\n",
      "MSE: 18.05936824141955\n",
      "RMSE: 23.499543450913297\n"
     ]
    }
   ],
   "source": [
    "y2_pred = lr2.predict(X=X2_test)\n",
    "print(\"score training:\", lr2.score(X=X2_train, y=y2_train))\n",
    "print(\"score testing: \", lr2.score(X=X2_test, y=y2_test))\n",
    "print(\"MSE:\", metrics.mean_absolute_error(y_pred=y2_pred, y_true=y2_test))\n",
    "print(\"RMSE:\", metrics.mean_squared_error(y_pred=y2_pred, y_true=y2_test)**0.5)"
   ]
  },
  {
   "cell_type": "code",
   "execution_count": 12,
   "metadata": {},
   "outputs": [
    {
     "data": {
      "text/plain": [
       "Ridge(alpha=1000)"
      ]
     },
     "execution_count": 12,
     "metadata": {},
     "output_type": "execute_result"
    }
   ],
   "source": [
    "#lets do a ridge regression\n",
    "ridge = Ridge(alpha=1000)\n",
    "\n",
    "#training\n",
    "ridge.fit(X=X2_train, y=y2_train)"
   ]
  },
  {
   "cell_type": "code",
   "execution_count": 13,
   "metadata": {},
   "outputs": [
    {
     "name": "stdout",
     "output_type": "stream",
     "text": [
      "score training: 0.9450850263130786\n",
      "score testing:  0.9242316003349785\n",
      "MSE: 18.29435031125052\n",
      "RMSE: 23.366217934731875\n"
     ]
    }
   ],
   "source": [
    "yR_pred = ridge.predict(X=X2_test)\n",
    "print(\"score training:\", ridge.score(X=X2_train, y=y2_train))\n",
    "print(\"score testing: \", ridge.score(X=X2_test, y=y2_test))\n",
    "print(\"MSE:\", metrics.mean_absolute_error(y_pred=yR_pred, y_true=y2_test))\n",
    "print(\"RMSE:\", metrics.mean_squared_error(y_pred=yR_pred, y_true=y2_test)**0.5)"
   ]
  },
  {
   "cell_type": "code",
   "execution_count": 14,
   "metadata": {},
   "outputs": [
    {
     "data": {
      "text/plain": [
       "(array([ 2.89398675,  0.16507491, -0.44109889, -0.22332124, -0.27957037,\n",
       "         0.50967361]), 14.051018139103093)"
      ]
     },
     "execution_count": 14,
     "metadata": {},
     "output_type": "execute_result"
    }
   ],
   "source": [
    "ridge.coef_, ridge.intercept_"
   ]
  },
  {
   "cell_type": "code",
   "execution_count": 15,
   "metadata": {},
   "outputs": [],
   "source": [
    "#As we raise the value of alpha ridge gives less importance to X1, X2... but they will never be 0\n",
    "#the metrics are almost the same as for the lr. The MSE and RMSE are both bigger"
   ]
  },
  {
   "cell_type": "markdown",
   "metadata": {},
   "source": [
    "# Lasso"
   ]
  },
  {
   "cell_type": "code",
   "execution_count": 16,
   "metadata": {},
   "outputs": [
    {
     "data": {
      "text/plain": [
       "Lasso(alpha=100)"
      ]
     },
     "execution_count": 16,
     "metadata": {},
     "output_type": "execute_result"
    }
   ],
   "source": [
    "#model\n",
    "lasso = Lasso(alpha=100)\n",
    "\n",
    "#training\n",
    "lasso.fit(X=X2_train, y=y2_train)"
   ]
  },
  {
   "cell_type": "code",
   "execution_count": 17,
   "metadata": {},
   "outputs": [
    {
     "name": "stdout",
     "output_type": "stream",
     "text": [
      "score training: 0.9403804361575971\n",
      "score testing:  0.9255718595029835\n",
      "MSE: 18.179600905501957\n",
      "RMSE: 23.158634586278772\n"
     ]
    }
   ],
   "source": [
    "yL_pred = lasso.predict(X=X2_test)\n",
    "print(\"score training:\", lasso.score(X=X2_train, y=y2_train))\n",
    "print(\"score testing: \", lasso.score(X=X2_test, y=y2_test))\n",
    "print(\"MSE:\", metrics.mean_absolute_error(y_pred=yL_pred, y_true=y2_test))\n",
    "print(\"RMSE:\", metrics.mean_squared_error(y_pred=yL_pred, y_true=y2_test)**0.5)"
   ]
  },
  {
   "cell_type": "code",
   "execution_count": 18,
   "metadata": {},
   "outputs": [
    {
     "data": {
      "text/plain": [
       "(array([ 2.88037323,  0.        , -0.        , -0.        , -0.        ,\n",
       "         0.        ]), 13.822798361193293)"
      ]
     },
     "execution_count": 18,
     "metadata": {},
     "output_type": "execute_result"
    }
   ],
   "source": [
    "lasso.coef_, lasso.intercept_"
   ]
  },
  {
   "cell_type": "code",
   "execution_count": 19,
   "metadata": {},
   "outputs": [],
   "source": [
    "#as we can see Lasso gets to eliminate the X1, X2... variables (which are the ones with the smaller correlation with Y).\n",
    "#so lasso can be useful for a dimensional reduction"
   ]
  },
  {
   "cell_type": "markdown",
   "metadata": {},
   "source": [
    "# Lasso and Ridge to eliminate linear dependencies"
   ]
  },
  {
   "cell_type": "code",
   "execution_count": 32,
   "metadata": {},
   "outputs": [],
   "source": [
    "#Lets add some linear dependency in the feactures and try with Lasso and Riedge"
   ]
  },
  {
   "cell_type": "code",
   "execution_count": 44,
   "metadata": {},
   "outputs": [],
   "source": [
    "np.random.seed(2357)\n",
    "n  = 50\n",
    "x  = np.random.randint(0, high=100, size=n)\n",
    "##xx = np.random.randint(0, high=100, size=n)\n",
    "xx = 2*x + 3\n",
    "y  = 1 + 3*x + 5*xx\n",
    "y  = y + np.random.normal(loc=0, scale=20, size=n)\n",
    "\n",
    "#random columns\n",
    "np.random.seed(11)\n",
    "x1 = 10*np.random.rand(n)\n",
    "x2 = 10*np.random.rand(n)\n",
    "x3 = 10*np.random.rand(n)\n",
    "x4 = 10*np.random.rand(n)\n",
    "x5 = 10*np.random.rand(n)"
   ]
  },
  {
   "cell_type": "code",
   "execution_count": 45,
   "metadata": {},
   "outputs": [
    {
     "data": {
      "text/html": [
       "<div>\n",
       "<style scoped>\n",
       "    .dataframe tbody tr th:only-of-type {\n",
       "        vertical-align: middle;\n",
       "    }\n",
       "\n",
       "    .dataframe tbody tr th {\n",
       "        vertical-align: top;\n",
       "    }\n",
       "\n",
       "    .dataframe thead th {\n",
       "        text-align: right;\n",
       "    }\n",
       "</style>\n",
       "<table border=\"1\" class=\"dataframe\">\n",
       "  <thead>\n",
       "    <tr style=\"text-align: right;\">\n",
       "      <th></th>\n",
       "      <th>X</th>\n",
       "      <th>XX</th>\n",
       "      <th>X1</th>\n",
       "      <th>X2</th>\n",
       "      <th>X3</th>\n",
       "      <th>X4</th>\n",
       "      <th>X5</th>\n",
       "      <th>Y</th>\n",
       "    </tr>\n",
       "  </thead>\n",
       "  <tbody>\n",
       "    <tr>\n",
       "      <th>0</th>\n",
       "      <td>47</td>\n",
       "      <td>97</td>\n",
       "      <td>1.802697</td>\n",
       "      <td>6.160184</td>\n",
       "      <td>3.181872</td>\n",
       "      <td>9.560583</td>\n",
       "      <td>0.654466</td>\n",
       "      <td>629.583578</td>\n",
       "    </tr>\n",
       "    <tr>\n",
       "      <th>1</th>\n",
       "      <td>35</td>\n",
       "      <td>73</td>\n",
       "      <td>0.194752</td>\n",
       "      <td>3.614835</td>\n",
       "      <td>2.180034</td>\n",
       "      <td>9.659309</td>\n",
       "      <td>5.746559</td>\n",
       "      <td>527.542750</td>\n",
       "    </tr>\n",
       "    <tr>\n",
       "      <th>2</th>\n",
       "      <td>78</td>\n",
       "      <td>159</td>\n",
       "      <td>4.632185</td>\n",
       "      <td>1.688173</td>\n",
       "      <td>8.449385</td>\n",
       "      <td>3.577892</td>\n",
       "      <td>6.879362</td>\n",
       "      <td>1006.416583</td>\n",
       "    </tr>\n",
       "    <tr>\n",
       "      <th>3</th>\n",
       "      <td>48</td>\n",
       "      <td>99</td>\n",
       "      <td>7.249339</td>\n",
       "      <td>4.362409</td>\n",
       "      <td>3.021647</td>\n",
       "      <td>0.458702</td>\n",
       "      <td>5.683058</td>\n",
       "      <td>638.020466</td>\n",
       "    </tr>\n",
       "    <tr>\n",
       "      <th>4</th>\n",
       "      <td>26</td>\n",
       "      <td>55</td>\n",
       "      <td>4.202036</td>\n",
       "      <td>7.328253</td>\n",
       "      <td>4.382207</td>\n",
       "      <td>5.539273</td>\n",
       "      <td>6.037265</td>\n",
       "      <td>350.227429</td>\n",
       "    </tr>\n",
       "    <tr>\n",
       "      <th>5</th>\n",
       "      <td>80</td>\n",
       "      <td>163</td>\n",
       "      <td>4.854271</td>\n",
       "      <td>0.628876</td>\n",
       "      <td>0.914146</td>\n",
       "      <td>7.363095</td>\n",
       "      <td>5.996501</td>\n",
       "      <td>1044.282227</td>\n",
       "    </tr>\n",
       "    <tr>\n",
       "      <th>6</th>\n",
       "      <td>61</td>\n",
       "      <td>125</td>\n",
       "      <td>0.127808</td>\n",
       "      <td>0.207330</td>\n",
       "      <td>3.009792</td>\n",
       "      <td>6.480465</td>\n",
       "      <td>9.026474</td>\n",
       "      <td>812.990250</td>\n",
       "    </tr>\n",
       "    <tr>\n",
       "      <th>7</th>\n",
       "      <td>16</td>\n",
       "      <td>35</td>\n",
       "      <td>4.873716</td>\n",
       "      <td>7.705481</td>\n",
       "      <td>0.856948</td>\n",
       "      <td>0.529328</td>\n",
       "      <td>5.310294</td>\n",
       "      <td>254.659685</td>\n",
       "    </tr>\n",
       "    <tr>\n",
       "      <th>8</th>\n",
       "      <td>65</td>\n",
       "      <td>133</td>\n",
       "      <td>9.418067</td>\n",
       "      <td>2.999520</td>\n",
       "      <td>3.437133</td>\n",
       "      <td>2.328828</td>\n",
       "      <td>8.613927</td>\n",
       "      <td>842.398016</td>\n",
       "    </tr>\n",
       "    <tr>\n",
       "      <th>9</th>\n",
       "      <td>46</td>\n",
       "      <td>95</td>\n",
       "      <td>8.507951</td>\n",
       "      <td>7.011643</td>\n",
       "      <td>7.093010</td>\n",
       "      <td>7.058843</td>\n",
       "      <td>3.519716</td>\n",
       "      <td>602.740169</td>\n",
       "    </tr>\n",
       "  </tbody>\n",
       "</table>\n",
       "</div>"
      ],
      "text/plain": [
       "    X   XX        X1        X2        X3        X4        X5            Y\n",
       "0  47   97  1.802697  6.160184  3.181872  9.560583  0.654466   629.583578\n",
       "1  35   73  0.194752  3.614835  2.180034  9.659309  5.746559   527.542750\n",
       "2  78  159  4.632185  1.688173  8.449385  3.577892  6.879362  1006.416583\n",
       "3  48   99  7.249339  4.362409  3.021647  0.458702  5.683058   638.020466\n",
       "4  26   55  4.202036  7.328253  4.382207  5.539273  6.037265   350.227429\n",
       "5  80  163  4.854271  0.628876  0.914146  7.363095  5.996501  1044.282227\n",
       "6  61  125  0.127808  0.207330  3.009792  6.480465  9.026474   812.990250\n",
       "7  16   35  4.873716  7.705481  0.856948  0.529328  5.310294   254.659685\n",
       "8  65  133  9.418067  2.999520  3.437133  2.328828  8.613927   842.398016\n",
       "9  46   95  8.507951  7.011643  7.093010  7.058843  3.519716   602.740169"
      ]
     },
     "execution_count": 45,
     "metadata": {},
     "output_type": "execute_result"
    }
   ],
   "source": [
    "df2 = pd.DataFrame({\n",
    "    \"X\":x,\n",
    "    \"XX\":xx,\n",
    "    \"X1\":x1,\n",
    "    \"X2\":x2,\n",
    "    \"X3\":x3,\n",
    "    \"X4\":x4,\n",
    "    \"X5\":x5,\n",
    "    \"Y\":y\n",
    "})\n",
    "df2.head(10)"
   ]
  },
  {
   "cell_type": "code",
   "execution_count": 46,
   "metadata": {},
   "outputs": [
    {
     "data": {
      "text/plain": [
       "XX    0.998347\n",
       "X     0.998347\n",
       "X4    0.174610\n",
       "X3    0.085093\n",
       "X5    0.026049\n",
       "X2   -0.031038\n",
       "X1   -0.275995\n",
       "Name: Y, dtype: float64"
      ]
     },
     "execution_count": 46,
     "metadata": {},
     "output_type": "execute_result"
    }
   ],
   "source": [
    "df2.corr().Y.sort_values(ascending=False)[1:]"
   ]
  },
  {
   "cell_type": "markdown",
   "metadata": {},
   "source": [
    "### Riedge "
   ]
  },
  {
   "cell_type": "code",
   "execution_count": 47,
   "metadata": {},
   "outputs": [
    {
     "data": {
      "text/plain": [
       "Ridge(alpha=1000)"
      ]
     },
     "execution_count": 47,
     "metadata": {},
     "output_type": "execute_result"
    }
   ],
   "source": [
    "#target\n",
    "yy = df[\"Y\"]\n",
    "\n",
    "#features\n",
    "XX = df.drop(\"Y\", axis=1)\n",
    "\n",
    "#spliting\n",
    "Xx_train, Xx_test, yy_train, yy_test = train_test_split(XX, yy, random_state=234, test_size=0.2)\n",
    "\n",
    "#model\n",
    "riedge2 = Ridge(alpha=1000)\n",
    "\n",
    "#training\n",
    "riedge2.fit(X=Xx_train, y=yy_train)"
   ]
  },
  {
   "cell_type": "code",
   "execution_count": 48,
   "metadata": {},
   "outputs": [
    {
     "name": "stdout",
     "output_type": "stream",
     "text": [
      "score training: 0.955680079643249\n",
      "score testing:  0.8138138736643914\n",
      "MSE: 20.69836510852653\n",
      "RMSE: 27.971409399638123\n"
     ]
    }
   ],
   "source": [
    "yr_pred = riedge2.predict(X=Xx_test)\n",
    "print(\"score training:\", riedge2.score(X=Xx_train, y=yy_train))\n",
    "print(\"score testing: \", riedge2.score(X=Xx_test, y=yy_test))\n",
    "print(\"MSE:\", metrics.mean_absolute_error(y_pred=yr_pred, y_true=yy_test))\n",
    "print(\"RMSE:\", metrics.mean_squared_error(y_pred=yr_pred, y_true=yy_test)**0.5)"
   ]
  },
  {
   "cell_type": "code",
   "execution_count": 49,
   "metadata": {},
   "outputs": [
    {
     "data": {
      "text/plain": [
       "(array([ 2.97927153,  0.42376357, -0.30568581, -0.19724508, -0.23205544,\n",
       "         0.39061476]), 6.302151665605919)"
      ]
     },
     "execution_count": 49,
     "metadata": {},
     "output_type": "execute_result"
    }
   ],
   "source": [
    "riedge2.coef_, riedge2.intercept_"
   ]
  },
  {
   "cell_type": "code",
   "execution_count": 50,
   "metadata": {},
   "outputs": [],
   "source": [
    "#as we see riedge sees that xx is linear dependent on x and gives it a low coefficient\n",
    "#(see that in the original model xx has a coefficient of 5)"
   ]
  },
  {
   "cell_type": "markdown",
   "metadata": {},
   "source": [
    "### Lasso"
   ]
  },
  {
   "cell_type": "code",
   "execution_count": 51,
   "metadata": {},
   "outputs": [
    {
     "data": {
      "text/plain": [
       "Lasso(alpha=100)"
      ]
     },
     "execution_count": 51,
     "metadata": {},
     "output_type": "execute_result"
    }
   ],
   "source": [
    "#model\n",
    "lasso2 = Lasso(alpha=100)\n",
    "\n",
    "#training\n",
    "lasso2.fit(X=Xx_train, y=yy_train)"
   ]
  },
  {
   "cell_type": "code",
   "execution_count": 52,
   "metadata": {},
   "outputs": [
    {
     "name": "stdout",
     "output_type": "stream",
     "text": [
      "score training: 0.9516824758567219\n",
      "score testing:  0.8175588187451835\n",
      "MSE: 20.458417874942764\n",
      "RMSE: 27.68867217024793\n"
     ]
    }
   ],
   "source": [
    "yl_pred = lasso2.predict(X=Xx_test)\n",
    "print(\"score training:\", lasso2.score(X=Xx_train, y=yy_train))\n",
    "print(\"score testing: \", lasso2.score(X=Xx_test,  y=yy_test))\n",
    "print(\"MSE:\", metrics.mean_absolute_error(y_pred=yl_pred, y_true=yy_test))\n",
    "print(\"RMSE:\", metrics.mean_squared_error(y_pred=yl_pred, y_true=yy_test)**0.5)"
   ]
  },
  {
   "cell_type": "code",
   "execution_count": 53,
   "metadata": {},
   "outputs": [
    {
     "data": {
      "text/plain": [
       "(array([ 2.95425893,  0.        , -0.        , -0.        , -0.        ,\n",
       "         0.        ]), 7.98420082016267)"
      ]
     },
     "execution_count": 53,
     "metadata": {},
     "output_type": "execute_result"
    }
   ],
   "source": [
    "lasso2.coef_, lasso2.intercept_"
   ]
  },
  {
   "cell_type": "code",
   "execution_count": 54,
   "metadata": {},
   "outputs": [],
   "source": [
    "#and Lasso eliminates completely the coefficient for xx since it is linearly dependent on x"
   ]
  }
 ],
 "metadata": {
  "kernelspec": {
   "display_name": "Python 3",
   "language": "python",
   "name": "python3"
  },
  "language_info": {
   "codemirror_mode": {
    "name": "ipython",
    "version": 3
   },
   "file_extension": ".py",
   "mimetype": "text/x-python",
   "name": "python",
   "nbconvert_exporter": "python",
   "pygments_lexer": "ipython3",
   "version": "3.6.5"
  }
 },
 "nbformat": 4,
 "nbformat_minor": 2
}
